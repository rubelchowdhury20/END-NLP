{
 "cells": [
  {
   "cell_type": "code",
   "execution_count": 1,
   "metadata": {
    "executionInfo": {
     "elapsed": 3537,
     "status": "ok",
     "timestamp": 1615533345195,
     "user": {
      "displayName": "Trinanjan Saha",
      "photoUrl": "https://lh3.googleusercontent.com/a-/AOh14GipfCBKWKbXo-US0MVpIYaUnF-NJhwFIMMRY99znQ=s64",
      "userId": "04053274871203917390"
     },
     "user_tz": -330
    },
    "id": "wFecUsMHbisX"
   },
   "outputs": [],
   "source": [
    "import numpy as np\n",
    "import pickle\n",
    "from collections import Counter, defaultdict\n",
    "import matplotlib.pyplot as plt\n",
    "import torch\n",
    "import torch.nn as nn\n",
    "import torch.optim as optim\n",
    "import torch.nn.functional as F\n",
    "from sklearn.manifold import TSNE\n",
    "from tqdm import tqdm as tqdm"
   ]
  },
  {
   "cell_type": "code",
   "execution_count": 2,
   "metadata": {
    "colab": {
     "base_uri": "https://localhost:8080/"
    },
    "executionInfo": {
     "elapsed": 969,
     "status": "ok",
     "timestamp": 1615533347001,
     "user": {
      "displayName": "Trinanjan Saha",
      "photoUrl": "https://lh3.googleusercontent.com/a-/AOh14GipfCBKWKbXo-US0MVpIYaUnF-NJhwFIMMRY99znQ=s64",
      "userId": "04053274871203917390"
     },
     "user_tz": -330
    },
    "id": "VNV5YTmiE7vd",
    "outputId": "dc4f6406-a5ff-45b1-e4c1-896f3cdc1269"
   },
   "outputs": [
    {
     "ename": "ModuleNotFoundError",
     "evalue": "No module named 'google.colab'",
     "output_type": "error",
     "traceback": [
      "\u001b[0;31m---------------------------------------------------------------------------\u001b[0m",
      "\u001b[0;31mModuleNotFoundError\u001b[0m                       Traceback (most recent call last)",
      "\u001b[0;32m<ipython-input-2-d5df0069828e>\u001b[0m in \u001b[0;36m<module>\u001b[0;34m\u001b[0m\n\u001b[0;32m----> 1\u001b[0;31m \u001b[0;32mfrom\u001b[0m \u001b[0mgoogle\u001b[0m\u001b[0;34m.\u001b[0m\u001b[0mcolab\u001b[0m \u001b[0;32mimport\u001b[0m \u001b[0mdrive\u001b[0m\u001b[0;34m\u001b[0m\u001b[0;34m\u001b[0m\u001b[0m\n\u001b[0m\u001b[1;32m      2\u001b[0m \u001b[0mdrive\u001b[0m\u001b[0;34m.\u001b[0m\u001b[0mmount\u001b[0m\u001b[0;34m(\u001b[0m\u001b[0;34m'/content/drive'\u001b[0m\u001b[0;34m)\u001b[0m\u001b[0;34m\u001b[0m\u001b[0;34m\u001b[0m\u001b[0m\n",
      "\u001b[0;31mModuleNotFoundError\u001b[0m: No module named 'google.colab'"
     ]
    }
   ],
   "source": [
    "from google.colab import drive\n",
    "drive.mount('/content/drive')"
   ]
  },
  {
   "cell_type": "code",
   "execution_count": 3,
   "metadata": {
    "colab": {
     "base_uri": "https://localhost:8080/"
    },
    "executionInfo": {
     "elapsed": 712,
     "status": "ok",
     "timestamp": 1615533348655,
     "user": {
      "displayName": "Trinanjan Saha",
      "photoUrl": "https://lh3.googleusercontent.com/a-/AOh14GipfCBKWKbXo-US0MVpIYaUnF-NJhwFIMMRY99znQ=s64",
      "userId": "04053274871203917390"
     },
     "user_tz": -330
    },
    "id": "GGOWZYZmciZf",
    "outputId": "42735c0e-d0e6-4ef0-8b35-50b9ef2b1dc6"
   },
   "outputs": [
    {
     "name": "stdout",
     "output_type": "stream",
     "text": [
      "[Errno 2] No such file or directory: 'drive/MyDrive/personal_projects/END_CAPSTONE/'\n",
      "/media/tensor/EXTDRIVE/personal/capstone\n"
     ]
    }
   ],
   "source": [
    "cd drive/MyDrive/personal_projects/END_CAPSTONE/"
   ]
  },
  {
   "cell_type": "code",
   "execution_count": 4,
   "metadata": {
    "colab": {
     "base_uri": "https://localhost:8080/"
    },
    "executionInfo": {
     "elapsed": 1080,
     "status": "ok",
     "timestamp": 1615533352210,
     "user": {
      "displayName": "Trinanjan Saha",
      "photoUrl": "https://lh3.googleusercontent.com/a-/AOh14GipfCBKWKbXo-US0MVpIYaUnF-NJhwFIMMRY99znQ=s64",
      "userId": "04053274871203917390"
     },
     "user_tz": -330
    },
    "id": "CLGUII-DcznR",
    "outputId": "bb0a622c-b170-4843-dcbc-7446c1f56cdf"
   },
   "outputs": [
    {
     "name": "stdout",
     "output_type": "stream",
     "text": [
      " 11777217\r\n",
      "'clean dataset.ipynb'\r\n",
      " clean_python_dataset_final.pkl\r\n",
      " clean_python_dataset.pkl\r\n",
      " dataset_preprocessing.ipynb\r\n",
      " english_python_data.py\r\n",
      " english_python_data.txt\r\n",
      " explore_dataset.ipynb\r\n",
      "'explore dataset recent.ipynb'\r\n",
      " glove_embs_training_trails_test1.ipynb\r\n",
      " Load_test_python_embedding.ipynb\r\n",
      " make_dataset.py\r\n",
      " pygments_data_tokens.pkl\r\n",
      " python_corpus_tokens_clean_small.pkl\r\n",
      " python_corpus_tokens_clean_small.pt\r\n",
      " python_embedding_corpus_clean_small.pkl\r\n",
      " simple.py\r\n",
      " train_python_corpus_embedding.ipynb\r\n",
      " train_python_srcgen_trials_test1.ipynb\r\n",
      " transformer_code\r\n"
     ]
    }
   ],
   "source": [
    "!ls"
   ]
  },
  {
   "cell_type": "code",
   "execution_count": 5,
   "metadata": {
    "colab": {
     "base_uri": "https://localhost:8080/"
    },
    "executionInfo": {
     "elapsed": 15895,
     "status": "ok",
     "timestamp": 1615533369120,
     "user": {
      "displayName": "Trinanjan Saha",
      "photoUrl": "https://lh3.googleusercontent.com/a-/AOh14GipfCBKWKbXo-US0MVpIYaUnF-NJhwFIMMRY99znQ=s64",
      "userId": "04053274871203917390"
     },
     "user_tz": -330
    },
    "id": "reEIfH0EbrZG",
    "outputId": "c5458f79-24c7-47a8-c987-9a982af5a06d"
   },
   "outputs": [
    {
     "name": "stdout",
     "output_type": "stream",
     "text": [
      "loading and processing python corpus tokens\n"
     ]
    },
    {
     "name": "stderr",
     "output_type": "stream",
     "text": [
      "  4%|▍         | 527069/13008185 [00:00<00:02, 5270682.46it/s]"
     ]
    },
    {
     "name": "stdout",
     "output_type": "stream",
     "text": [
      "total number of python tokens  13008185\n"
     ]
    },
    {
     "name": "stderr",
     "output_type": "stream",
     "text": [
      "100%|██████████| 13008185/13008185 [00:01<00:00, 7773220.65it/s]\n"
     ]
    }
   ],
   "source": [
    "print('loading and processing python corpus tokens')\n",
    "with open('./pygments_data_tokens.pkl', 'rb') as f:\n",
    "    python_corpus_tokens_data = pickle.load(f)\n",
    "print('total number of python tokens ', len(python_corpus_tokens_data))\n",
    "\n",
    "python_corpus_tokens = [i[1] for i in tqdm(python_corpus_tokens_data)]\n",
    "# # removing duplicates\n",
    "# python_corpus_tokens = list(set(python_corpus_tokens)) \n",
    "# print('total number of python tokens ', len(python_corpus_tokens))"
   ]
  },
  {
   "cell_type": "code",
   "execution_count": 6,
   "metadata": {
    "colab": {
     "base_uri": "https://localhost:8080/",
     "height": 52
    },
    "executionInfo": {
     "elapsed": 2440,
     "status": "ok",
     "timestamp": 1615533184135,
     "user": {
      "displayName": "Trinanjan Saha",
      "photoUrl": "https://lh3.googleusercontent.com/a-/AOh14GipfCBKWKbXo-US0MVpIYaUnF-NJhwFIMMRY99znQ=s64",
      "userId": "04053274871203917390"
     },
     "user_tz": -330
    },
    "id": "t8x4_Wgg-wFf",
    "outputId": "f54405bb-85ac-47ec-df3a-5e90f3654e61"
   },
   "outputs": [
    {
     "name": "stdout",
     "output_type": "stream",
     "text": [
      "2142056\n"
     ]
    },
    {
     "data": {
      "text/plain": [
       "'find'"
      ]
     },
     "execution_count": 6,
     "metadata": {},
     "output_type": "execute_result"
    }
   ],
   "source": [
    "import random\n",
    "index = random.randint(0,len(python_corpus_tokens)) #'\"\"\"React to channel messages\"\"\"',407211\n",
    "print(index)\n",
    "python_corpus_tokens[index]"
   ]
  },
  {
   "cell_type": "code",
   "execution_count": 7,
   "metadata": {
    "executionInfo": {
     "elapsed": 941,
     "status": "ok",
     "timestamp": 1615532056651,
     "user": {
      "displayName": "Trinanjan Saha",
      "photoUrl": "https://lh3.googleusercontent.com/a-/AOh14GipfCBKWKbXo-US0MVpIYaUnF-NJhwFIMMRY99znQ=s64",
      "userId": "04053274871203917390"
     },
     "user_tz": -330
    },
    "id": "UMVuxaUn-CL-"
   },
   "outputs": [],
   "source": [
    "# # remove unnecessary data\n",
    "# import tokenize\n",
    "# remove_list = ['COMMENT', 'NUMBER' , 'STRING']\n",
    "# token_names = []\n",
    "# python_corpus_tokens = []\n",
    "# for each_token in tqdm(python_corpus_tokens_data):\n",
    "#   token_name = tokenize.tok_name[each_token.type]\n",
    "#   if token_name not in token_names:\n",
    "#     token_names.append(token_name)\n",
    "#   if token_name not in remove_list:\n",
    "#     python_corpus_tokens.append(each_token.string)\n",
    "  \n",
    "# # python_corpus_tokens = [i.string for i in tqdm(python_corpus_tokens_data)]\n",
    "# # # removing duplicates\n",
    "# python_corpus_tokens = list(set(python_corpus_tokens)) \n",
    "# print('total number of python tokens ', len(python_corpus_tokens))"
   ]
  },
  {
   "cell_type": "code",
   "execution_count": 8,
   "metadata": {
    "executionInfo": {
     "elapsed": 1484,
     "status": "ok",
     "timestamp": 1615533377813,
     "user": {
      "displayName": "Trinanjan Saha",
      "photoUrl": "https://lh3.googleusercontent.com/a-/AOh14GipfCBKWKbXo-US0MVpIYaUnF-NJhwFIMMRY99znQ=s64",
      "userId": "04053274871203917390"
     },
     "user_tz": -330
    },
    "id": "nmcaJa1hKveu"
   },
   "outputs": [],
   "source": [
    "class GloveDataset:\n",
    "\n",
    "  def __init__(self, processed_tokens, n_words=200000, window_size=5):\n",
    "      self._window_size = window_size\n",
    "      self._tokens = processed_tokens[:n_words]\n",
    "      word_counter = Counter()\n",
    "      word_counter.update(self._tokens)\n",
    "      self._word2id = {w:i for i, (w,_) in enumerate(word_counter.most_common())}\n",
    "      self._id2word = {i:w for w, i in self._word2id.items()}\n",
    "      self._vocab_len = len(self._word2id)\n",
    "\n",
    "      self._id_tokens = [self._word2id[w] for w in self._tokens]\n",
    "\n",
    "      self._create_coocurrence_matrix()\n",
    "\n",
    "      print(\"# of words: {}\".format(len(self._tokens)))\n",
    "      print(\"Vocabulary length: {}\".format(self._vocab_len))\n",
    "\n",
    "  def get_vocab_info(self):\n",
    "    return self._word2id, self._id2word , self._tokens\n",
    "    \n",
    "  def _create_coocurrence_matrix(self):\n",
    "      cooc_mat = defaultdict(Counter)\n",
    "      for i, w in enumerate(self._id_tokens):\n",
    "          start_i = max(i - self._window_size, 0)\n",
    "          end_i = min(i + self._window_size + 1, len(self._id_tokens))\n",
    "          for j in range(start_i, end_i):\n",
    "              if i != j:\n",
    "                  c = self._id_tokens[j]\n",
    "                  cooc_mat[w][c] += 1 / abs(j-i)\n",
    "\n",
    "      self._i_idx = list()\n",
    "      self._j_idx = list()\n",
    "      self._xij = list()\n",
    "\n",
    "      #Create indexes and x values tensors\n",
    "      for w, cnt in cooc_mat.items():\n",
    "          for c, v in cnt.items():\n",
    "              self._i_idx.append(w)\n",
    "              self._j_idx.append(c)\n",
    "              self._xij.append(v)\n",
    "\n",
    "      self._i_idx = torch.LongTensor(self._i_idx).cuda()\n",
    "      self._j_idx = torch.LongTensor(self._j_idx).cuda()\n",
    "      self._xij = torch.FloatTensor(self._xij).cuda()\n",
    "\n",
    "\n",
    "  def get_batches(self, batch_size):\n",
    "      #Generate random idx\n",
    "      rand_ids = torch.LongTensor(np.random.choice(len(self._xij), len(self._xij), replace=False))\n",
    "\n",
    "      for p in range(0, len(rand_ids), batch_size):\n",
    "          batch_ids = rand_ids[p:p+batch_size]\n",
    "          yield self._xij[batch_ids], self._i_idx[batch_ids], self._j_idx[batch_ids]"
   ]
  },
  {
   "cell_type": "code",
   "execution_count": 9,
   "metadata": {
    "colab": {
     "base_uri": "https://localhost:8080/"
    },
    "executionInfo": {
     "elapsed": 103084,
     "status": "ok",
     "timestamp": 1615533481474,
     "user": {
      "displayName": "Trinanjan Saha",
      "photoUrl": "https://lh3.googleusercontent.com/a-/AOh14GipfCBKWKbXo-US0MVpIYaUnF-NJhwFIMMRY99znQ=s64",
      "userId": "04053274871203917390"
     },
     "user_tz": -330
    },
    "id": "-_8DvXw2eRfJ",
    "outputId": "104f2dfa-ec0d-4c12-86b8-2a9139acd535"
   },
   "outputs": [
    {
     "name": "stdout",
     "output_type": "stream",
     "text": [
      "# of words: 13008185\n",
      "Vocabulary length: 667631\n"
     ]
    }
   ],
   "source": [
    "dataset = GloveDataset(python_corpus_tokens,len(python_corpus_tokens))"
   ]
  },
  {
   "cell_type": "code",
   "execution_count": 10,
   "metadata": {
    "colab": {
     "base_uri": "https://localhost:8080/"
    },
    "executionInfo": {
     "elapsed": 8540,
     "status": "ok",
     "timestamp": 1615533502084,
     "user": {
      "displayName": "Trinanjan Saha",
      "photoUrl": "https://lh3.googleusercontent.com/a-/AOh14GipfCBKWKbXo-US0MVpIYaUnF-NJhwFIMMRY99znQ=s64",
      "userId": "04053274871203917390"
     },
     "user_tz": -330
    },
    "id": "GjyE-2JzeeUI",
    "outputId": "31b79605-aa0e-4c02-8b91-7460f932d615"
   },
   "outputs": [
    {
     "data": {
      "text/plain": [
       "GloveModel(\n",
       "  (wi): Embedding(667631, 256)\n",
       "  (wj): Embedding(667631, 256)\n",
       "  (bi): Embedding(667631, 1)\n",
       "  (bj): Embedding(667631, 1)\n",
       ")"
      ]
     },
     "execution_count": 10,
     "metadata": {},
     "output_type": "execute_result"
    }
   ],
   "source": [
    "EMBED_DIM = 256\n",
    "class GloveModel(nn.Module):\n",
    "    def __init__(self, num_embeddings, embedding_dim):\n",
    "        super(GloveModel, self).__init__()\n",
    "        self.wi = nn.Embedding(num_embeddings, embedding_dim)\n",
    "        self.wj = nn.Embedding(num_embeddings, embedding_dim)\n",
    "        self.bi = nn.Embedding(num_embeddings, 1)\n",
    "        self.bj = nn.Embedding(num_embeddings, 1)\n",
    "\n",
    "        self.wi.weight.data.uniform_(-1, 1)\n",
    "        self.wj.weight.data.uniform_(-1, 1)\n",
    "        self.bi.weight.data.zero_()\n",
    "        self.bj.weight.data.zero_()\n",
    "\n",
    "    def forward(self, i_indices, j_indices):\n",
    "        w_i = self.wi(i_indices)\n",
    "        w_j = self.wj(j_indices)\n",
    "        b_i = self.bi(i_indices).squeeze()\n",
    "        b_j = self.bj(j_indices).squeeze()\n",
    "\n",
    "        x = torch.sum(w_i * w_j, dim=1) + b_i + b_j\n",
    "\n",
    "        return x\n",
    "glove = GloveModel(dataset._vocab_len, EMBED_DIM)\n",
    "glove.cuda()\n"
   ]
  },
  {
   "cell_type": "code",
   "execution_count": 11,
   "metadata": {
    "executionInfo": {
     "elapsed": 1018,
     "status": "ok",
     "timestamp": 1615533504112,
     "user": {
      "displayName": "Trinanjan Saha",
      "photoUrl": "https://lh3.googleusercontent.com/a-/AOh14GipfCBKWKbXo-US0MVpIYaUnF-NJhwFIMMRY99znQ=s64",
      "userId": "04053274871203917390"
     },
     "user_tz": -330
    },
    "id": "Zz8TPelyfLm-"
   },
   "outputs": [],
   "source": [
    "def weight_func(x, x_max, alpha):\n",
    "    wx = (x/x_max)**alpha\n",
    "    wx = torch.min(wx, torch.ones_like(wx))\n",
    "    return wx.cuda()"
   ]
  },
  {
   "cell_type": "code",
   "execution_count": 12,
   "metadata": {
    "executionInfo": {
     "elapsed": 1040,
     "status": "ok",
     "timestamp": 1615533505065,
     "user": {
      "displayName": "Trinanjan Saha",
      "photoUrl": "https://lh3.googleusercontent.com/a-/AOh14GipfCBKWKbXo-US0MVpIYaUnF-NJhwFIMMRY99znQ=s64",
      "userId": "04053274871203917390"
     },
     "user_tz": -330
    },
    "id": "EF69VRJ3fP7i"
   },
   "outputs": [],
   "source": [
    "def wmse_loss(weights, inputs, targets):\n",
    "    loss = weights * F.mse_loss(inputs, targets, reduction='none')\n",
    "    return torch.mean(loss).cuda()"
   ]
  },
  {
   "cell_type": "code",
   "execution_count": 13,
   "metadata": {
    "executionInfo": {
     "elapsed": 1506,
     "status": "ok",
     "timestamp": 1615533507645,
     "user": {
      "displayName": "Trinanjan Saha",
      "photoUrl": "https://lh3.googleusercontent.com/a-/AOh14GipfCBKWKbXo-US0MVpIYaUnF-NJhwFIMMRY99znQ=s64",
      "userId": "04053274871203917390"
     },
     "user_tz": -330
    },
    "id": "ID-p1cF0fShy"
   },
   "outputs": [],
   "source": [
    "optimizer = optim.Adagrad(glove.parameters(), lr=0.05)"
   ]
  },
  {
   "cell_type": "code",
   "execution_count": 14,
   "metadata": {
    "colab": {
     "base_uri": "https://localhost:8080/",
     "height": 265
    },
    "executionInfo": {
     "elapsed": 39839,
     "status": "error",
     "timestamp": 1615533550162,
     "user": {
      "displayName": "Trinanjan Saha",
      "photoUrl": "https://lh3.googleusercontent.com/a-/AOh14GipfCBKWKbXo-US0MVpIYaUnF-NJhwFIMMRY99znQ=s64",
      "userId": "04053274871203917390"
     },
     "user_tz": -330
    },
    "id": "S6PZtuEkfU7S",
    "outputId": "8bddd347-0385-4288-9e43-48c5a8b6e595"
   },
   "outputs": [
    {
     "name": "stdout",
     "output_type": "stream",
     "text": [
      "Epoch: 1/10 \t Batch: 100/5194 \t Loss: 0.9980877339839935\n",
      "Epoch: 1/10 \t Batch: 200/5194 \t Loss: 0.9481068253517151\n",
      "Epoch: 1/10 \t Batch: 300/5194 \t Loss: 0.8731690794229507\n",
      "Epoch: 1/10 \t Batch: 400/5194 \t Loss: 0.8103816777467727\n",
      "Epoch: 1/10 \t Batch: 500/5194 \t Loss: 0.7728482723236084\n",
      "Epoch: 1/10 \t Batch: 600/5194 \t Loss: 0.732994544506073\n",
      "Epoch: 1/10 \t Batch: 700/5194 \t Loss: 0.7012794137001037\n",
      "Epoch: 1/10 \t Batch: 800/5194 \t Loss: 0.6827307403087616\n",
      "Epoch: 1/10 \t Batch: 900/5194 \t Loss: 0.6638139486312866\n",
      "Epoch: 1/10 \t Batch: 1000/5194 \t Loss: 0.6114903435111045\n",
      "Epoch: 1/10 \t Batch: 1100/5194 \t Loss: 0.6502491354942321\n",
      "Epoch: 1/10 \t Batch: 1200/5194 \t Loss: 0.58750229626894\n",
      "Epoch: 1/10 \t Batch: 1300/5194 \t Loss: 0.5802480354905128\n",
      "Epoch: 1/10 \t Batch: 1400/5194 \t Loss: 0.5736379861831665\n",
      "Epoch: 1/10 \t Batch: 1500/5194 \t Loss: 0.5600109532475471\n",
      "Epoch: 1/10 \t Batch: 1600/5194 \t Loss: 0.5444723576307297\n",
      "Epoch: 1/10 \t Batch: 1700/5194 \t Loss: 0.5598803132772445\n",
      "Epoch: 1/10 \t Batch: 1800/5194 \t Loss: 0.5195221483707428\n",
      "Epoch: 1/10 \t Batch: 1900/5194 \t Loss: 0.5632661536335946\n",
      "Epoch: 1/10 \t Batch: 2000/5194 \t Loss: 0.579404690861702\n",
      "Epoch: 1/10 \t Batch: 2100/5194 \t Loss: 0.5066424205899238\n",
      "Epoch: 1/10 \t Batch: 2200/5194 \t Loss: 0.5463528782129288\n",
      "Epoch: 1/10 \t Batch: 2300/5194 \t Loss: 0.5066151037812233\n",
      "Epoch: 1/10 \t Batch: 2400/5194 \t Loss: 0.5164852410554885\n",
      "Epoch: 1/10 \t Batch: 2500/5194 \t Loss: 0.516436904668808\n",
      "Epoch: 1/10 \t Batch: 2600/5194 \t Loss: 0.47712867259979247\n",
      "Epoch: 1/10 \t Batch: 2700/5194 \t Loss: 0.49966518133878707\n",
      "Epoch: 1/10 \t Batch: 2800/5194 \t Loss: 0.4828586205840111\n",
      "Epoch: 1/10 \t Batch: 2900/5194 \t Loss: 0.4791115239262581\n",
      "Epoch: 1/10 \t Batch: 3000/5194 \t Loss: 0.46113599091768265\n",
      "Epoch: 1/10 \t Batch: 3100/5194 \t Loss: 0.469662170112133\n",
      "Epoch: 1/10 \t Batch: 3200/5194 \t Loss: 0.46292530596256254\n",
      "Epoch: 1/10 \t Batch: 3300/5194 \t Loss: 0.4453281670808792\n",
      "Epoch: 1/10 \t Batch: 3400/5194 \t Loss: 0.45328055769205094\n",
      "Epoch: 1/10 \t Batch: 3500/5194 \t Loss: 0.44462754875421523\n",
      "Epoch: 1/10 \t Batch: 3600/5194 \t Loss: 0.4507568448781967\n",
      "Epoch: 1/10 \t Batch: 3700/5194 \t Loss: 0.4149790912866592\n",
      "Epoch: 1/10 \t Batch: 3800/5194 \t Loss: 0.4455176830291748\n",
      "Epoch: 1/10 \t Batch: 3900/5194 \t Loss: 0.41614321023225787\n",
      "Epoch: 1/10 \t Batch: 4000/5194 \t Loss: 0.4186899229884148\n",
      "Epoch: 1/10 \t Batch: 4100/5194 \t Loss: 0.403807333111763\n",
      "Epoch: 1/10 \t Batch: 4200/5194 \t Loss: 0.4119585305452347\n",
      "Epoch: 1/10 \t Batch: 4300/5194 \t Loss: 0.3793391644954681\n",
      "Epoch: 1/10 \t Batch: 4400/5194 \t Loss: 0.3937662526965141\n",
      "Epoch: 1/10 \t Batch: 4500/5194 \t Loss: 0.40078363567590714\n",
      "Epoch: 1/10 \t Batch: 4600/5194 \t Loss: 0.38635286390781404\n",
      "Epoch: 1/10 \t Batch: 4700/5194 \t Loss: 0.3916717007756233\n",
      "Epoch: 1/10 \t Batch: 4800/5194 \t Loss: 0.4076454982161522\n",
      "Epoch: 1/10 \t Batch: 4900/5194 \t Loss: 0.38977595418691635\n",
      "Epoch: 1/10 \t Batch: 5000/5194 \t Loss: 0.36587022095918653\n",
      "Epoch: 1/10 \t Batch: 5100/5194 \t Loss: 0.355972920358181\n",
      "Saving model...\n",
      "Epoch: 2/10 \t Batch: 100/5194 \t Loss: 0.22246004715561868\n",
      "Epoch: 2/10 \t Batch: 200/5194 \t Loss: 0.23155659362673758\n",
      "Epoch: 2/10 \t Batch: 300/5194 \t Loss: 0.23197757974267005\n",
      "Epoch: 2/10 \t Batch: 400/5194 \t Loss: 0.23841927126049994\n",
      "Epoch: 2/10 \t Batch: 500/5194 \t Loss: 0.21740731298923494\n",
      "Epoch: 2/10 \t Batch: 600/5194 \t Loss: 0.2444182552397251\n",
      "Epoch: 2/10 \t Batch: 700/5194 \t Loss: 0.23120974823832513\n",
      "Epoch: 2/10 \t Batch: 800/5194 \t Loss: 0.23967472538352014\n",
      "Epoch: 2/10 \t Batch: 900/5194 \t Loss: 0.23912254124879836\n",
      "Epoch: 2/10 \t Batch: 1000/5194 \t Loss: 0.21253415569663048\n",
      "Epoch: 2/10 \t Batch: 1100/5194 \t Loss: 0.24284490570425987\n",
      "Epoch: 2/10 \t Batch: 1200/5194 \t Loss: 0.23270279094576835\n",
      "Epoch: 2/10 \t Batch: 1300/5194 \t Loss: 0.229457139223814\n",
      "Epoch: 2/10 \t Batch: 1400/5194 \t Loss: 0.21914322748780252\n",
      "Epoch: 2/10 \t Batch: 1500/5194 \t Loss: 0.220683304220438\n",
      "Epoch: 2/10 \t Batch: 1600/5194 \t Loss: 0.22998545989394187\n",
      "Epoch: 2/10 \t Batch: 1700/5194 \t Loss: 0.22915708497166634\n",
      "Epoch: 2/10 \t Batch: 1800/5194 \t Loss: 0.21976771280169488\n",
      "Epoch: 2/10 \t Batch: 1900/5194 \t Loss: 0.22022689655423164\n",
      "Epoch: 2/10 \t Batch: 2000/5194 \t Loss: 0.2285146825015545\n",
      "Epoch: 2/10 \t Batch: 2100/5194 \t Loss: 0.23428502157330514\n",
      "Epoch: 2/10 \t Batch: 2200/5194 \t Loss: 0.2064679503440857\n",
      "Epoch: 2/10 \t Batch: 2300/5194 \t Loss: 0.21982257589697837\n",
      "Epoch: 2/10 \t Batch: 2400/5194 \t Loss: 0.21973233819007873\n",
      "Epoch: 2/10 \t Batch: 2500/5194 \t Loss: 0.21858440935611725\n",
      "Epoch: 2/10 \t Batch: 2600/5194 \t Loss: 0.21558382362127304\n",
      "Epoch: 2/10 \t Batch: 2700/5194 \t Loss: 0.22634873166680336\n",
      "Epoch: 2/10 \t Batch: 2800/5194 \t Loss: 0.22477610558271408\n",
      "Epoch: 2/10 \t Batch: 2900/5194 \t Loss: 0.22242231890559197\n",
      "Epoch: 2/10 \t Batch: 3000/5194 \t Loss: 0.20821284651756286\n",
      "Epoch: 2/10 \t Batch: 3100/5194 \t Loss: 0.21219473481178283\n",
      "Epoch: 2/10 \t Batch: 3200/5194 \t Loss: 0.22406822443008423\n",
      "Epoch: 2/10 \t Batch: 3300/5194 \t Loss: 0.20363753661513329\n",
      "Epoch: 2/10 \t Batch: 3400/5194 \t Loss: 0.21251054853200912\n",
      "Epoch: 2/10 \t Batch: 3500/5194 \t Loss: 0.20312944427132607\n",
      "Epoch: 2/10 \t Batch: 3600/5194 \t Loss: 0.22384088709950448\n",
      "Epoch: 2/10 \t Batch: 3700/5194 \t Loss: 0.21597345694899558\n",
      "Epoch: 2/10 \t Batch: 3800/5194 \t Loss: 0.22246406748890876\n",
      "Epoch: 2/10 \t Batch: 3900/5194 \t Loss: 0.2083345390856266\n",
      "Epoch: 2/10 \t Batch: 4000/5194 \t Loss: 0.19293782711029053\n",
      "Epoch: 2/10 \t Batch: 4100/5194 \t Loss: 0.2014688916504383\n",
      "Epoch: 2/10 \t Batch: 4200/5194 \t Loss: 0.19204061478376389\n",
      "Epoch: 2/10 \t Batch: 4300/5194 \t Loss: 0.1925062470138073\n",
      "Epoch: 2/10 \t Batch: 4400/5194 \t Loss: 0.19955994933843613\n",
      "Epoch: 2/10 \t Batch: 4500/5194 \t Loss: 0.19077395275235176\n",
      "Epoch: 2/10 \t Batch: 4600/5194 \t Loss: 0.2134791523218155\n",
      "Epoch: 2/10 \t Batch: 4700/5194 \t Loss: 0.20291472747921943\n",
      "Epoch: 2/10 \t Batch: 4800/5194 \t Loss: 0.19744697734713554\n",
      "Epoch: 2/10 \t Batch: 4900/5194 \t Loss: 0.2011859506368637\n",
      "Epoch: 2/10 \t Batch: 5000/5194 \t Loss: 0.19836113154888152\n",
      "Epoch: 2/10 \t Batch: 5100/5194 \t Loss: 0.20342103615403176\n",
      "Saving model...\n",
      "Epoch: 3/10 \t Batch: 100/5194 \t Loss: 0.10969886481761933\n",
      "Epoch: 3/10 \t Batch: 200/5194 \t Loss: 0.11967843882739544\n",
      "Epoch: 3/10 \t Batch: 300/5194 \t Loss: 0.11668019853532315\n",
      "Epoch: 3/10 \t Batch: 400/5194 \t Loss: 0.11567323915660381\n",
      "Epoch: 3/10 \t Batch: 500/5194 \t Loss: 0.11687071844935418\n",
      "Epoch: 3/10 \t Batch: 600/5194 \t Loss: 0.11280478984117508\n",
      "Epoch: 3/10 \t Batch: 700/5194 \t Loss: 0.12590585500001908\n",
      "Epoch: 3/10 \t Batch: 800/5194 \t Loss: 0.10688825733959675\n",
      "Epoch: 3/10 \t Batch: 900/5194 \t Loss: 0.1170367743819952\n",
      "Epoch: 3/10 \t Batch: 1000/5194 \t Loss: 0.11680951528251171\n",
      "Epoch: 3/10 \t Batch: 1100/5194 \t Loss: 0.10721533186733723\n",
      "Epoch: 3/10 \t Batch: 1200/5194 \t Loss: 0.11295628473162651\n",
      "Epoch: 3/10 \t Batch: 1300/5194 \t Loss: 0.11650871150195599\n",
      "Epoch: 3/10 \t Batch: 1400/5194 \t Loss: 0.1170667376369238\n",
      "Epoch: 3/10 \t Batch: 1500/5194 \t Loss: 0.11141546368598938\n",
      "Epoch: 3/10 \t Batch: 1600/5194 \t Loss: 0.1170467883348465\n",
      "Epoch: 3/10 \t Batch: 1700/5194 \t Loss: 0.11974693574011326\n",
      "Epoch: 3/10 \t Batch: 1800/5194 \t Loss: 0.10983414910733699\n",
      "Epoch: 3/10 \t Batch: 1900/5194 \t Loss: 0.11974305994808673\n",
      "Epoch: 3/10 \t Batch: 2000/5194 \t Loss: 0.11268402673304082\n",
      "Epoch: 3/10 \t Batch: 2100/5194 \t Loss: 0.10981124453246593\n",
      "Epoch: 3/10 \t Batch: 2200/5194 \t Loss: 0.113069561496377\n",
      "Epoch: 3/10 \t Batch: 2300/5194 \t Loss: 0.11311067827045918\n",
      "Epoch: 3/10 \t Batch: 2400/5194 \t Loss: 0.1050802644342184\n",
      "Epoch: 3/10 \t Batch: 2500/5194 \t Loss: 0.10832281820476056\n",
      "Epoch: 3/10 \t Batch: 2600/5194 \t Loss: 0.10921617336571217\n",
      "Epoch: 3/10 \t Batch: 2700/5194 \t Loss: 0.11568165794014931\n",
      "Epoch: 3/10 \t Batch: 2800/5194 \t Loss: 0.11188992261886596\n",
      "Epoch: 3/10 \t Batch: 2900/5194 \t Loss: 0.11568410843610763\n",
      "Epoch: 3/10 \t Batch: 3000/5194 \t Loss: 0.11475223526358605\n",
      "Epoch: 3/10 \t Batch: 3100/5194 \t Loss: 0.11401892490684987\n",
      "Epoch: 3/10 \t Batch: 3200/5194 \t Loss: 0.10945211052894592\n",
      "Epoch: 3/10 \t Batch: 3300/5194 \t Loss: 0.1086325228214264\n",
      "Epoch: 3/10 \t Batch: 3400/5194 \t Loss: 0.11053818762302399\n",
      "Epoch: 3/10 \t Batch: 3500/5194 \t Loss: 0.11224747225642204\n",
      "Epoch: 3/10 \t Batch: 3600/5194 \t Loss: 0.10777860023081302\n",
      "Epoch: 3/10 \t Batch: 3700/5194 \t Loss: 0.1092054907232523\n",
      "Epoch: 3/10 \t Batch: 3800/5194 \t Loss: 0.10828016474843025\n"
     ]
    },
    {
     "name": "stdout",
     "output_type": "stream",
     "text": [
      "Epoch: 3/10 \t Batch: 3900/5194 \t Loss: 0.10505947582423687\n",
      "Epoch: 3/10 \t Batch: 4000/5194 \t Loss: 0.1051517978310585\n",
      "Epoch: 3/10 \t Batch: 4100/5194 \t Loss: 0.10629324056208134\n",
      "Epoch: 3/10 \t Batch: 4200/5194 \t Loss: 0.10912213623523712\n",
      "Epoch: 3/10 \t Batch: 4300/5194 \t Loss: 0.10212133601307868\n",
      "Epoch: 3/10 \t Batch: 4400/5194 \t Loss: 0.10697517730295658\n",
      "Epoch: 3/10 \t Batch: 4500/5194 \t Loss: 0.09936429299414158\n",
      "Epoch: 3/10 \t Batch: 4600/5194 \t Loss: 0.11089341342449188\n",
      "Epoch: 3/10 \t Batch: 4700/5194 \t Loss: 0.10158112272620201\n",
      "Epoch: 3/10 \t Batch: 4800/5194 \t Loss: 0.11043032631278038\n",
      "Epoch: 3/10 \t Batch: 4900/5194 \t Loss: 0.1030628141015768\n",
      "Epoch: 3/10 \t Batch: 5000/5194 \t Loss: 0.1033071793615818\n",
      "Epoch: 3/10 \t Batch: 5100/5194 \t Loss: 0.11169302091002464\n",
      "Saving model...\n",
      "Epoch: 4/10 \t Batch: 100/5194 \t Loss: 0.08495917655527592\n",
      "Epoch: 4/10 \t Batch: 200/5194 \t Loss: 0.0816027132794261\n",
      "Epoch: 4/10 \t Batch: 300/5194 \t Loss: 0.07894388418644667\n",
      "Epoch: 4/10 \t Batch: 400/5194 \t Loss: 0.08519978150725364\n",
      "Epoch: 4/10 \t Batch: 500/5194 \t Loss: 0.07965386919677257\n",
      "Epoch: 4/10 \t Batch: 600/5194 \t Loss: 0.08298514913767577\n",
      "Epoch: 4/10 \t Batch: 700/5194 \t Loss: 0.08155333083122969\n",
      "Epoch: 4/10 \t Batch: 800/5194 \t Loss: 0.07986484207212925\n",
      "Epoch: 4/10 \t Batch: 900/5194 \t Loss: 0.07609941232949495\n",
      "Epoch: 4/10 \t Batch: 1000/5194 \t Loss: 0.07572499476373196\n",
      "Epoch: 4/10 \t Batch: 1100/5194 \t Loss: 0.08684371970593929\n",
      "Epoch: 4/10 \t Batch: 1200/5194 \t Loss: 0.0810488261282444\n",
      "Epoch: 4/10 \t Batch: 1300/5194 \t Loss: 0.07933668214827776\n",
      "Epoch: 4/10 \t Batch: 1400/5194 \t Loss: 0.07952425256371498\n",
      "Epoch: 4/10 \t Batch: 1500/5194 \t Loss: 0.0828543309122324\n",
      "Epoch: 4/10 \t Batch: 1600/5194 \t Loss: 0.07537956330925226\n",
      "Epoch: 4/10 \t Batch: 1700/5194 \t Loss: 0.0882875170558691\n",
      "Epoch: 4/10 \t Batch: 1800/5194 \t Loss: 0.08597577773034573\n",
      "Epoch: 4/10 \t Batch: 1900/5194 \t Loss: 0.07273572217673063\n",
      "Epoch: 4/10 \t Batch: 2000/5194 \t Loss: 0.07642795201390981\n",
      "Epoch: 4/10 \t Batch: 2100/5194 \t Loss: 0.0755086937919259\n",
      "Epoch: 4/10 \t Batch: 2200/5194 \t Loss: 0.08315435834228993\n",
      "Epoch: 4/10 \t Batch: 2300/5194 \t Loss: 0.08107251785695553\n",
      "Epoch: 4/10 \t Batch: 2400/5194 \t Loss: 0.08085117973387242\n",
      "Epoch: 4/10 \t Batch: 2500/5194 \t Loss: 0.07540901023894549\n",
      "Epoch: 4/10 \t Batch: 2600/5194 \t Loss: 0.08261776361614466\n",
      "Epoch: 4/10 \t Batch: 2700/5194 \t Loss: 0.08029518947005272\n",
      "Epoch: 4/10 \t Batch: 2800/5194 \t Loss: 0.08307140786200762\n",
      "Epoch: 4/10 \t Batch: 2900/5194 \t Loss: 0.07823093105107545\n",
      "Epoch: 4/10 \t Batch: 3000/5194 \t Loss: 0.07801107782870531\n",
      "Epoch: 4/10 \t Batch: 3100/5194 \t Loss: 0.07494447957724333\n",
      "Epoch: 4/10 \t Batch: 3200/5194 \t Loss: 0.07574920896440744\n",
      "Epoch: 4/10 \t Batch: 3300/5194 \t Loss: 0.08385817911475897\n",
      "Epoch: 4/10 \t Batch: 3400/5194 \t Loss: 0.07494410667568445\n",
      "Epoch: 4/10 \t Batch: 3500/5194 \t Loss: 0.07638699542731046\n",
      "Epoch: 4/10 \t Batch: 3600/5194 \t Loss: 0.07370074279606342\n",
      "Epoch: 4/10 \t Batch: 3700/5194 \t Loss: 0.08535345010459423\n",
      "Epoch: 4/10 \t Batch: 3800/5194 \t Loss: 0.07622848078608513\n",
      "Epoch: 4/10 \t Batch: 3900/5194 \t Loss: 0.0813947506248951\n",
      "Epoch: 4/10 \t Batch: 4000/5194 \t Loss: 0.07425027377903462\n",
      "Epoch: 4/10 \t Batch: 4100/5194 \t Loss: 0.0775781875476241\n",
      "Epoch: 4/10 \t Batch: 4200/5194 \t Loss: 0.07436168733984232\n",
      "Epoch: 4/10 \t Batch: 4300/5194 \t Loss: 0.0730967227369547\n",
      "Epoch: 4/10 \t Batch: 4400/5194 \t Loss: 0.0764808963984251\n",
      "Epoch: 4/10 \t Batch: 4500/5194 \t Loss: 0.07252230197191238\n",
      "Epoch: 4/10 \t Batch: 4600/5194 \t Loss: 0.07392408549785615\n",
      "Epoch: 4/10 \t Batch: 4700/5194 \t Loss: 0.07283681035041809\n",
      "Epoch: 4/10 \t Batch: 4800/5194 \t Loss: 0.07645924873650074\n",
      "Epoch: 4/10 \t Batch: 4900/5194 \t Loss: 0.07099825069308281\n",
      "Epoch: 4/10 \t Batch: 5000/5194 \t Loss: 0.07507879324257374\n",
      "Epoch: 4/10 \t Batch: 5100/5194 \t Loss: 0.07222416885197162\n",
      "Saving model...\n",
      "Epoch: 5/10 \t Batch: 100/5194 \t Loss: 0.06587984524667263\n",
      "Epoch: 5/10 \t Batch: 200/5194 \t Loss: 0.06098508071154356\n",
      "Epoch: 5/10 \t Batch: 300/5194 \t Loss: 0.06544795352965593\n",
      "Epoch: 5/10 \t Batch: 400/5194 \t Loss: 0.06258644461631775\n",
      "Epoch: 5/10 \t Batch: 500/5194 \t Loss: 0.06279531847685575\n",
      "Epoch: 5/10 \t Batch: 600/5194 \t Loss: 0.06628854330629111\n",
      "Epoch: 5/10 \t Batch: 700/5194 \t Loss: 0.0696536486968398\n",
      "Epoch: 5/10 \t Batch: 800/5194 \t Loss: 0.06300692781805992\n",
      "Epoch: 5/10 \t Batch: 900/5194 \t Loss: 0.06412906609475613\n",
      "Epoch: 5/10 \t Batch: 1000/5194 \t Loss: 0.05824351366609335\n",
      "Epoch: 5/10 \t Batch: 1100/5194 \t Loss: 0.06077865082770586\n",
      "Epoch: 5/10 \t Batch: 1200/5194 \t Loss: 0.060950366966426375\n",
      "Epoch: 5/10 \t Batch: 1300/5194 \t Loss: 0.06658109314739705\n",
      "Epoch: 5/10 \t Batch: 1400/5194 \t Loss: 0.061671634763479234\n",
      "Epoch: 5/10 \t Batch: 1500/5194 \t Loss: 0.06087839156389237\n",
      "Epoch: 5/10 \t Batch: 1600/5194 \t Loss: 0.06644455529749393\n",
      "Epoch: 5/10 \t Batch: 1700/5194 \t Loss: 0.06406272370368242\n",
      "Epoch: 5/10 \t Batch: 1800/5194 \t Loss: 0.06516513992100954\n",
      "Epoch: 5/10 \t Batch: 1900/5194 \t Loss: 0.06224146131426096\n",
      "Epoch: 5/10 \t Batch: 2000/5194 \t Loss: 0.060888157598674296\n",
      "Epoch: 5/10 \t Batch: 2100/5194 \t Loss: 0.061129743605852126\n",
      "Epoch: 5/10 \t Batch: 2200/5194 \t Loss: 0.061955622397363186\n",
      "Epoch: 5/10 \t Batch: 2300/5194 \t Loss: 0.06107372492551803\n",
      "Epoch: 5/10 \t Batch: 2400/5194 \t Loss: 0.06392478104680777\n",
      "Epoch: 5/10 \t Batch: 2500/5194 \t Loss: 0.0644221119582653\n",
      "Epoch: 5/10 \t Batch: 2600/5194 \t Loss: 0.060158251971006396\n",
      "Epoch: 5/10 \t Batch: 2700/5194 \t Loss: 0.06623636391013861\n",
      "Epoch: 5/10 \t Batch: 2800/5194 \t Loss: 0.0628142250701785\n",
      "Epoch: 5/10 \t Batch: 2900/5194 \t Loss: 0.06104617714881897\n",
      "Epoch: 5/10 \t Batch: 3000/5194 \t Loss: 0.06043232381343842\n",
      "Epoch: 5/10 \t Batch: 3100/5194 \t Loss: 0.062163307704031466\n",
      "Epoch: 5/10 \t Batch: 3200/5194 \t Loss: 0.060636366717517376\n",
      "Epoch: 5/10 \t Batch: 3300/5194 \t Loss: 0.06279217265546322\n",
      "Epoch: 5/10 \t Batch: 3400/5194 \t Loss: 0.062150861322879794\n",
      "Epoch: 5/10 \t Batch: 3500/5194 \t Loss: 0.0623647129163146\n",
      "Epoch: 5/10 \t Batch: 3600/5194 \t Loss: 0.05815270449966192\n",
      "Epoch: 5/10 \t Batch: 3700/5194 \t Loss: 0.06303497850894928\n",
      "Epoch: 5/10 \t Batch: 3800/5194 \t Loss: 0.06232220642268658\n",
      "Epoch: 5/10 \t Batch: 3900/5194 \t Loss: 0.059138984978199007\n",
      "Epoch: 5/10 \t Batch: 4000/5194 \t Loss: 0.06278845760971308\n",
      "Epoch: 5/10 \t Batch: 4100/5194 \t Loss: 0.06332920864224434\n",
      "Epoch: 5/10 \t Batch: 4200/5194 \t Loss: 0.059047001600265506\n",
      "Epoch: 5/10 \t Batch: 4300/5194 \t Loss: 0.059056034311652184\n",
      "Epoch: 5/10 \t Batch: 4400/5194 \t Loss: 0.06240359228104353\n",
      "Epoch: 5/10 \t Batch: 4500/5194 \t Loss: 0.06026117652654648\n",
      "Epoch: 5/10 \t Batch: 4600/5194 \t Loss: 0.059378132410347464\n",
      "Epoch: 5/10 \t Batch: 4700/5194 \t Loss: 0.06265014596283436\n",
      "Epoch: 5/10 \t Batch: 4800/5194 \t Loss: 0.06004068553447724\n",
      "Epoch: 5/10 \t Batch: 4900/5194 \t Loss: 0.06225583590567112\n",
      "Epoch: 5/10 \t Batch: 5000/5194 \t Loss: 0.059371302649378774\n",
      "Epoch: 5/10 \t Batch: 5100/5194 \t Loss: 0.05727801434695721\n",
      "Saving model...\n",
      "Epoch: 6/10 \t Batch: 100/5194 \t Loss: 0.04832443781197071\n",
      "Epoch: 6/10 \t Batch: 200/5194 \t Loss: 0.050316056609153746\n",
      "Epoch: 6/10 \t Batch: 300/5194 \t Loss: 0.05192489176988602\n",
      "Epoch: 6/10 \t Batch: 400/5194 \t Loss: 0.05504019688814878\n",
      "Epoch: 6/10 \t Batch: 500/5194 \t Loss: 0.0567347165197134\n",
      "Epoch: 6/10 \t Batch: 600/5194 \t Loss: 0.05375805925577879\n",
      "Epoch: 6/10 \t Batch: 700/5194 \t Loss: 0.056506053730845454\n",
      "Epoch: 6/10 \t Batch: 800/5194 \t Loss: 0.053993265330791476\n",
      "Epoch: 6/10 \t Batch: 900/5194 \t Loss: 0.04925272837281227\n",
      "Epoch: 6/10 \t Batch: 1000/5194 \t Loss: 0.050429698266088965\n",
      "Epoch: 6/10 \t Batch: 1100/5194 \t Loss: 0.056643528118729594\n",
      "Epoch: 6/10 \t Batch: 1200/5194 \t Loss: 0.04792320057749748\n",
      "Epoch: 6/10 \t Batch: 1300/5194 \t Loss: 0.054447239451110366\n",
      "Epoch: 6/10 \t Batch: 1400/5194 \t Loss: 0.05154434982687235\n",
      "Epoch: 6/10 \t Batch: 1500/5194 \t Loss: 0.057866220921278\n",
      "Epoch: 6/10 \t Batch: 1600/5194 \t Loss: 0.05696043837815523\n",
      "Epoch: 6/10 \t Batch: 1700/5194 \t Loss: 0.0504418520256877\n",
      "Epoch: 6/10 \t Batch: 1800/5194 \t Loss: 0.05428626723587513\n",
      "Epoch: 6/10 \t Batch: 1900/5194 \t Loss: 0.053192812204360965\n",
      "Epoch: 6/10 \t Batch: 2000/5194 \t Loss: 0.05245069041848183\n",
      "Epoch: 6/10 \t Batch: 2100/5194 \t Loss: 0.05217378307133913\n",
      "Epoch: 6/10 \t Batch: 2200/5194 \t Loss: 0.049496546015143396\n",
      "Epoch: 6/10 \t Batch: 2300/5194 \t Loss: 0.053108425065875056\n",
      "Epoch: 6/10 \t Batch: 2400/5194 \t Loss: 0.053296308219432834\n"
     ]
    },
    {
     "name": "stdout",
     "output_type": "stream",
     "text": [
      "Epoch: 6/10 \t Batch: 2500/5194 \t Loss: 0.05152327679097653\n",
      "Epoch: 6/10 \t Batch: 2600/5194 \t Loss: 0.05114012248814106\n",
      "Epoch: 6/10 \t Batch: 2700/5194 \t Loss: 0.05220531634986401\n",
      "Epoch: 6/10 \t Batch: 2800/5194 \t Loss: 0.04730349350720644\n",
      "Epoch: 6/10 \t Batch: 2900/5194 \t Loss: 0.050757272727787496\n",
      "Epoch: 6/10 \t Batch: 3000/5194 \t Loss: 0.05263750068843365\n",
      "Epoch: 6/10 \t Batch: 3100/5194 \t Loss: 0.05524573791772127\n",
      "Epoch: 6/10 \t Batch: 3200/5194 \t Loss: 0.052596991136670115\n",
      "Epoch: 6/10 \t Batch: 3300/5194 \t Loss: 0.049265488795936105\n",
      "Epoch: 6/10 \t Batch: 3400/5194 \t Loss: 0.05155328679829836\n",
      "Epoch: 6/10 \t Batch: 3500/5194 \t Loss: 0.04618841875344515\n",
      "Epoch: 6/10 \t Batch: 3600/5194 \t Loss: 0.049862901121377944\n",
      "Epoch: 6/10 \t Batch: 3700/5194 \t Loss: 0.0518891952931881\n",
      "Epoch: 6/10 \t Batch: 3800/5194 \t Loss: 0.050701890513300894\n",
      "Epoch: 6/10 \t Batch: 3900/5194 \t Loss: 0.0533054394647479\n",
      "Epoch: 6/10 \t Batch: 4000/5194 \t Loss: 0.05106287896633148\n",
      "Epoch: 6/10 \t Batch: 4100/5194 \t Loss: 0.05172856096178293\n",
      "Epoch: 6/10 \t Batch: 4200/5194 \t Loss: 0.05375503115355969\n",
      "Epoch: 6/10 \t Batch: 4300/5194 \t Loss: 0.047082073800265786\n",
      "Epoch: 6/10 \t Batch: 4400/5194 \t Loss: 0.053692273981869224\n",
      "Epoch: 6/10 \t Batch: 4500/5194 \t Loss: 0.0482839597389102\n",
      "Epoch: 6/10 \t Batch: 4600/5194 \t Loss: 0.05364954397082329\n",
      "Epoch: 6/10 \t Batch: 4700/5194 \t Loss: 0.052015735395252706\n",
      "Epoch: 6/10 \t Batch: 4800/5194 \t Loss: 0.0523042157292366\n",
      "Epoch: 6/10 \t Batch: 4900/5194 \t Loss: 0.05026269406080246\n",
      "Epoch: 6/10 \t Batch: 5000/5194 \t Loss: 0.0527515759691596\n",
      "Epoch: 6/10 \t Batch: 5100/5194 \t Loss: 0.052684614434838295\n",
      "Saving model...\n",
      "Epoch: 7/10 \t Batch: 100/5194 \t Loss: 0.044651135243475436\n",
      "Epoch: 7/10 \t Batch: 200/5194 \t Loss: 0.04586315471678972\n",
      "Epoch: 7/10 \t Batch: 300/5194 \t Loss: 0.04616595804691315\n",
      "Epoch: 7/10 \t Batch: 400/5194 \t Loss: 0.04635672885924578\n",
      "Epoch: 7/10 \t Batch: 500/5194 \t Loss: 0.0458662236109376\n",
      "Epoch: 7/10 \t Batch: 600/5194 \t Loss: 0.04324749894440174\n",
      "Epoch: 7/10 \t Batch: 700/5194 \t Loss: 0.042109976429492234\n",
      "Epoch: 7/10 \t Batch: 800/5194 \t Loss: 0.044002733938395974\n",
      "Epoch: 7/10 \t Batch: 900/5194 \t Loss: 0.04321110751479864\n",
      "Epoch: 7/10 \t Batch: 1000/5194 \t Loss: 0.043685393035411836\n",
      "Epoch: 7/10 \t Batch: 1100/5194 \t Loss: 0.04296029359102249\n",
      "Epoch: 7/10 \t Batch: 1200/5194 \t Loss: 0.04213388683274388\n",
      "Epoch: 7/10 \t Batch: 1300/5194 \t Loss: 0.046710526756942275\n",
      "Epoch: 7/10 \t Batch: 1400/5194 \t Loss: 0.04499296080321073\n",
      "Epoch: 7/10 \t Batch: 1500/5194 \t Loss: 0.04480854943394661\n",
      "Epoch: 7/10 \t Batch: 1600/5194 \t Loss: 0.043793078139424325\n",
      "Epoch: 7/10 \t Batch: 1700/5194 \t Loss: 0.04071571081876755\n",
      "Epoch: 7/10 \t Batch: 1800/5194 \t Loss: 0.045471069402992725\n",
      "Epoch: 7/10 \t Batch: 1900/5194 \t Loss: 0.042123551946133375\n",
      "Epoch: 7/10 \t Batch: 2000/5194 \t Loss: 0.04839412346482277\n",
      "Epoch: 7/10 \t Batch: 2100/5194 \t Loss: 0.04559570755809546\n",
      "Epoch: 7/10 \t Batch: 2200/5194 \t Loss: 0.0444826640188694\n",
      "Epoch: 7/10 \t Batch: 2300/5194 \t Loss: 0.044161764718592164\n",
      "Epoch: 7/10 \t Batch: 2400/5194 \t Loss: 0.0456704756245017\n",
      "Epoch: 7/10 \t Batch: 2500/5194 \t Loss: 0.04433171488344669\n",
      "Epoch: 7/10 \t Batch: 2600/5194 \t Loss: 0.042975671030580996\n",
      "Epoch: 7/10 \t Batch: 2700/5194 \t Loss: 0.04272492378950119\n",
      "Epoch: 7/10 \t Batch: 2800/5194 \t Loss: 0.044426496513187884\n",
      "Epoch: 7/10 \t Batch: 2900/5194 \t Loss: 0.04393020551651716\n",
      "Epoch: 7/10 \t Batch: 3000/5194 \t Loss: 0.0465665552765131\n",
      "Epoch: 7/10 \t Batch: 3100/5194 \t Loss: 0.04389627948403359\n",
      "Epoch: 7/10 \t Batch: 3200/5194 \t Loss: 0.041023277677595615\n",
      "Epoch: 7/10 \t Batch: 3300/5194 \t Loss: 0.04845668040215969\n",
      "Epoch: 7/10 \t Batch: 3400/5194 \t Loss: 0.046222567185759546\n",
      "Epoch: 7/10 \t Batch: 3500/5194 \t Loss: 0.043454285711050034\n",
      "Epoch: 7/10 \t Batch: 3600/5194 \t Loss: 0.043882915377616884\n",
      "Epoch: 7/10 \t Batch: 3700/5194 \t Loss: 0.04434108138084412\n",
      "Epoch: 7/10 \t Batch: 3800/5194 \t Loss: 0.04274654965847731\n",
      "Epoch: 7/10 \t Batch: 3900/5194 \t Loss: 0.042523257248103616\n",
      "Epoch: 7/10 \t Batch: 4000/5194 \t Loss: 0.04664085265249014\n",
      "Epoch: 7/10 \t Batch: 4100/5194 \t Loss: 0.0460492929443717\n",
      "Epoch: 7/10 \t Batch: 4200/5194 \t Loss: 0.04539562202990055\n",
      "Epoch: 7/10 \t Batch: 4300/5194 \t Loss: 0.04725860729813576\n",
      "Epoch: 7/10 \t Batch: 4400/5194 \t Loss: 0.04732176642864942\n",
      "Epoch: 7/10 \t Batch: 4500/5194 \t Loss: 0.04619968198239803\n",
      "Epoch: 7/10 \t Batch: 4600/5194 \t Loss: 0.04777239691466093\n",
      "Epoch: 7/10 \t Batch: 4700/5194 \t Loss: 0.04450577832758427\n",
      "Epoch: 7/10 \t Batch: 4800/5194 \t Loss: 0.043571241572499274\n",
      "Epoch: 7/10 \t Batch: 4900/5194 \t Loss: 0.04457332380115986\n",
      "Epoch: 7/10 \t Batch: 5000/5194 \t Loss: 0.04667402766644955\n",
      "Epoch: 7/10 \t Batch: 5100/5194 \t Loss: 0.04659750554710627\n",
      "Saving model...\n",
      "Epoch: 8/10 \t Batch: 100/5194 \t Loss: 0.04030103366822004\n",
      "Epoch: 8/10 \t Batch: 200/5194 \t Loss: 0.03963841954246163\n",
      "Epoch: 8/10 \t Batch: 300/5194 \t Loss: 0.036549906618893145\n",
      "Epoch: 8/10 \t Batch: 400/5194 \t Loss: 0.03997499654069543\n",
      "Epoch: 8/10 \t Batch: 500/5194 \t Loss: 0.03819300038740039\n",
      "Epoch: 8/10 \t Batch: 600/5194 \t Loss: 0.03843727568164468\n",
      "Epoch: 8/10 \t Batch: 700/5194 \t Loss: 0.03732871748507023\n",
      "Epoch: 8/10 \t Batch: 800/5194 \t Loss: 0.04056020835414529\n",
      "Epoch: 8/10 \t Batch: 900/5194 \t Loss: 0.03876515943557024\n",
      "Epoch: 8/10 \t Batch: 1000/5194 \t Loss: 0.03809446692466736\n",
      "Epoch: 8/10 \t Batch: 1100/5194 \t Loss: 0.038825526088476184\n",
      "Epoch: 8/10 \t Batch: 1200/5194 \t Loss: 0.04038112424314022\n",
      "Epoch: 8/10 \t Batch: 1300/5194 \t Loss: 0.041329799126833676\n",
      "Epoch: 8/10 \t Batch: 1400/5194 \t Loss: 0.038440555427223445\n",
      "Epoch: 8/10 \t Batch: 1500/5194 \t Loss: 0.03819800140336156\n",
      "Epoch: 8/10 \t Batch: 1600/5194 \t Loss: 0.04107074020430446\n",
      "Epoch: 8/10 \t Batch: 1700/5194 \t Loss: 0.04010019563138485\n",
      "Epoch: 8/10 \t Batch: 1800/5194 \t Loss: 0.03903345577418804\n",
      "Epoch: 8/10 \t Batch: 1900/5194 \t Loss: 0.03902612468227744\n",
      "Epoch: 8/10 \t Batch: 2000/5194 \t Loss: 0.039432053174823525\n",
      "Epoch: 8/10 \t Batch: 2100/5194 \t Loss: 0.040322883427143096\n",
      "Epoch: 8/10 \t Batch: 2200/5194 \t Loss: 0.04142799451947212\n",
      "Epoch: 8/10 \t Batch: 2300/5194 \t Loss: 0.040288064442574975\n",
      "Epoch: 8/10 \t Batch: 2400/5194 \t Loss: 0.037895933352410795\n",
      "Epoch: 8/10 \t Batch: 2500/5194 \t Loss: 0.042385867610573766\n",
      "Epoch: 8/10 \t Batch: 2600/5194 \t Loss: 0.03821552796289325\n",
      "Epoch: 8/10 \t Batch: 2700/5194 \t Loss: 0.04329585824161768\n",
      "Epoch: 8/10 \t Batch: 2800/5194 \t Loss: 0.036827574390918015\n",
      "Epoch: 8/10 \t Batch: 2900/5194 \t Loss: 0.042627884354442355\n",
      "Epoch: 8/10 \t Batch: 3000/5194 \t Loss: 0.039055693335831164\n",
      "Epoch: 8/10 \t Batch: 3100/5194 \t Loss: 0.039791283942759034\n",
      "Epoch: 8/10 \t Batch: 3200/5194 \t Loss: 0.03888852633535862\n",
      "Epoch: 8/10 \t Batch: 3300/5194 \t Loss: 0.0389052115380764\n",
      "Epoch: 8/10 \t Batch: 3400/5194 \t Loss: 0.03943537874147296\n",
      "Epoch: 8/10 \t Batch: 3500/5194 \t Loss: 0.04024405628442764\n",
      "Epoch: 8/10 \t Batch: 3600/5194 \t Loss: 0.04113431721925735\n",
      "Epoch: 8/10 \t Batch: 3700/5194 \t Loss: 0.04171647746115923\n",
      "Epoch: 8/10 \t Batch: 3800/5194 \t Loss: 0.038671651482582094\n",
      "Epoch: 8/10 \t Batch: 3900/5194 \t Loss: 0.040073583088815215\n",
      "Epoch: 8/10 \t Batch: 4000/5194 \t Loss: 0.0384318414144218\n",
      "Epoch: 8/10 \t Batch: 4100/5194 \t Loss: 0.039907204639166596\n",
      "Epoch: 8/10 \t Batch: 4200/5194 \t Loss: 0.04156063050031662\n",
      "Epoch: 8/10 \t Batch: 4300/5194 \t Loss: 0.03849926199764013\n",
      "Epoch: 8/10 \t Batch: 4400/5194 \t Loss: 0.039018032234162094\n",
      "Epoch: 8/10 \t Batch: 4500/5194 \t Loss: 0.03944791369140148\n",
      "Epoch: 8/10 \t Batch: 4600/5194 \t Loss: 0.04111371757462621\n",
      "Epoch: 8/10 \t Batch: 4700/5194 \t Loss: 0.04067819155752659\n",
      "Epoch: 8/10 \t Batch: 4800/5194 \t Loss: 0.039617324341088535\n",
      "Epoch: 8/10 \t Batch: 4900/5194 \t Loss: 0.037941647507250306\n",
      "Epoch: 8/10 \t Batch: 5000/5194 \t Loss: 0.042739979829639195\n",
      "Epoch: 8/10 \t Batch: 5100/5194 \t Loss: 0.0367644920013845\n",
      "Saving model...\n",
      "Epoch: 9/10 \t Batch: 100/5194 \t Loss: 0.03762662541121244\n",
      "Epoch: 9/10 \t Batch: 200/5194 \t Loss: 0.03767650155350566\n",
      "Epoch: 9/10 \t Batch: 300/5194 \t Loss: 0.03577367570251226\n",
      "Epoch: 9/10 \t Batch: 400/5194 \t Loss: 0.03634315971285105\n",
      "Epoch: 9/10 \t Batch: 500/5194 \t Loss: 0.03591004451736808\n",
      "Epoch: 9/10 \t Batch: 600/5194 \t Loss: 0.034741824772208926\n",
      "Epoch: 9/10 \t Batch: 700/5194 \t Loss: 0.03634200291708112\n",
      "Epoch: 9/10 \t Batch: 800/5194 \t Loss: 0.0341110797598958\n",
      "Epoch: 9/10 \t Batch: 900/5194 \t Loss: 0.03487248895689845\n"
     ]
    },
    {
     "name": "stdout",
     "output_type": "stream",
     "text": [
      "Epoch: 9/10 \t Batch: 1000/5194 \t Loss: 0.034185320418328044\n",
      "Epoch: 9/10 \t Batch: 1100/5194 \t Loss: 0.03557491134852171\n",
      "Epoch: 9/10 \t Batch: 1200/5194 \t Loss: 0.036681934352964164\n",
      "Epoch: 9/10 \t Batch: 1300/5194 \t Loss: 0.034155748598277566\n",
      "Epoch: 9/10 \t Batch: 1400/5194 \t Loss: 0.035902571864426136\n",
      "Epoch: 9/10 \t Batch: 1500/5194 \t Loss: 0.035445278696715835\n",
      "Epoch: 9/10 \t Batch: 1600/5194 \t Loss: 0.036325985100120306\n",
      "Epoch: 9/10 \t Batch: 1700/5194 \t Loss: 0.0348855591379106\n",
      "Epoch: 9/10 \t Batch: 1800/5194 \t Loss: 0.034558760654181245\n",
      "Epoch: 9/10 \t Batch: 1900/5194 \t Loss: 0.03458644226193428\n",
      "Epoch: 9/10 \t Batch: 2000/5194 \t Loss: 0.03945761295035481\n",
      "Epoch: 9/10 \t Batch: 2100/5194 \t Loss: 0.033723230194300416\n",
      "Epoch: 9/10 \t Batch: 2200/5194 \t Loss: 0.036071133054792884\n",
      "Epoch: 9/10 \t Batch: 2300/5194 \t Loss: 0.03664499521255493\n",
      "Epoch: 9/10 \t Batch: 2400/5194 \t Loss: 0.03755553336814046\n",
      "Epoch: 9/10 \t Batch: 2500/5194 \t Loss: 0.03670830046758056\n",
      "Epoch: 9/10 \t Batch: 2600/5194 \t Loss: 0.03574712984263897\n",
      "Epoch: 9/10 \t Batch: 2700/5194 \t Loss: 0.03318504672497511\n",
      "Epoch: 9/10 \t Batch: 2800/5194 \t Loss: 0.03661464247852564\n",
      "Epoch: 9/10 \t Batch: 2900/5194 \t Loss: 0.034824539162218573\n",
      "Epoch: 9/10 \t Batch: 3000/5194 \t Loss: 0.03924762327224016\n",
      "Epoch: 9/10 \t Batch: 3100/5194 \t Loss: 0.03769553219899535\n",
      "Epoch: 9/10 \t Batch: 3200/5194 \t Loss: 0.0390042926184833\n",
      "Epoch: 9/10 \t Batch: 3300/5194 \t Loss: 0.03426104234531522\n",
      "Epoch: 9/10 \t Batch: 3400/5194 \t Loss: 0.037060657516121864\n",
      "Epoch: 9/10 \t Batch: 3500/5194 \t Loss: 0.038968353532254696\n",
      "Epoch: 9/10 \t Batch: 3600/5194 \t Loss: 0.03662656517699361\n",
      "Epoch: 9/10 \t Batch: 3700/5194 \t Loss: 0.034917266480624674\n",
      "Epoch: 9/10 \t Batch: 3800/5194 \t Loss: 0.03660549568012357\n",
      "Epoch: 9/10 \t Batch: 3900/5194 \t Loss: 0.03527746144682169\n",
      "Epoch: 9/10 \t Batch: 4000/5194 \t Loss: 0.03573503391817212\n",
      "Epoch: 9/10 \t Batch: 4100/5194 \t Loss: 0.0361260618083179\n",
      "Epoch: 9/10 \t Batch: 4200/5194 \t Loss: 0.0358775588683784\n",
      "Epoch: 9/10 \t Batch: 4300/5194 \t Loss: 0.033024181798100474\n",
      "Epoch: 9/10 \t Batch: 4400/5194 \t Loss: 0.03530676010996103\n",
      "Epoch: 9/10 \t Batch: 4500/5194 \t Loss: 0.038552448712289335\n",
      "Epoch: 9/10 \t Batch: 4600/5194 \t Loss: 0.035432833805680276\n",
      "Epoch: 9/10 \t Batch: 4700/5194 \t Loss: 0.03714059628546238\n",
      "Epoch: 9/10 \t Batch: 4800/5194 \t Loss: 0.03550420170649886\n",
      "Epoch: 9/10 \t Batch: 4900/5194 \t Loss: 0.03504853341728449\n",
      "Epoch: 9/10 \t Batch: 5000/5194 \t Loss: 0.03654049262404442\n",
      "Epoch: 9/10 \t Batch: 5100/5194 \t Loss: 0.035004067979753015\n",
      "Saving model...\n",
      "Epoch: 10/10 \t Batch: 100/5194 \t Loss: 0.032652291003614664\n",
      "Epoch: 10/10 \t Batch: 200/5194 \t Loss: 0.03018818171694875\n",
      "Epoch: 10/10 \t Batch: 300/5194 \t Loss: 0.029753800295293332\n",
      "Epoch: 10/10 \t Batch: 400/5194 \t Loss: 0.033019875176250935\n",
      "Epoch: 10/10 \t Batch: 500/5194 \t Loss: 0.034083935990929605\n",
      "Epoch: 10/10 \t Batch: 600/5194 \t Loss: 0.032122254744172095\n",
      "Epoch: 10/10 \t Batch: 700/5194 \t Loss: 0.030779108684509993\n",
      "Epoch: 10/10 \t Batch: 800/5194 \t Loss: 0.03204047847539186\n",
      "Epoch: 10/10 \t Batch: 900/5194 \t Loss: 0.03237532116472721\n",
      "Epoch: 10/10 \t Batch: 1000/5194 \t Loss: 0.033734250254929064\n",
      "Epoch: 10/10 \t Batch: 1100/5194 \t Loss: 0.031121945194900035\n",
      "Epoch: 10/10 \t Batch: 1200/5194 \t Loss: 0.030745615344494583\n",
      "Epoch: 10/10 \t Batch: 1300/5194 \t Loss: 0.030832093488425017\n",
      "Epoch: 10/10 \t Batch: 1400/5194 \t Loss: 0.03414470078423619\n",
      "Epoch: 10/10 \t Batch: 1500/5194 \t Loss: 0.031892618536949156\n",
      "Epoch: 10/10 \t Batch: 1600/5194 \t Loss: 0.03190337242558598\n",
      "Epoch: 10/10 \t Batch: 1700/5194 \t Loss: 0.031838093977421524\n",
      "Epoch: 10/10 \t Batch: 1800/5194 \t Loss: 0.03261298909783363\n",
      "Epoch: 10/10 \t Batch: 1900/5194 \t Loss: 0.03230073433369398\n",
      "Epoch: 10/10 \t Batch: 2000/5194 \t Loss: 0.035463334526866674\n",
      "Epoch: 10/10 \t Batch: 2100/5194 \t Loss: 0.03310396997258067\n",
      "Epoch: 10/10 \t Batch: 2200/5194 \t Loss: 0.032367356866598126\n",
      "Epoch: 10/10 \t Batch: 2300/5194 \t Loss: 0.032417213264852765\n",
      "Epoch: 10/10 \t Batch: 2400/5194 \t Loss: 0.03232732033357024\n",
      "Epoch: 10/10 \t Batch: 2500/5194 \t Loss: 0.031928376760333776\n",
      "Epoch: 10/10 \t Batch: 2600/5194 \t Loss: 0.03344128979369998\n",
      "Epoch: 10/10 \t Batch: 2700/5194 \t Loss: 0.030966211948543786\n",
      "Epoch: 10/10 \t Batch: 2800/5194 \t Loss: 0.032582135312259196\n",
      "Epoch: 10/10 \t Batch: 2900/5194 \t Loss: 0.03320293566212058\n",
      "Epoch: 10/10 \t Batch: 3000/5194 \t Loss: 0.03375615170225501\n",
      "Epoch: 10/10 \t Batch: 3100/5194 \t Loss: 0.03209682302549481\n",
      "Epoch: 10/10 \t Batch: 3200/5194 \t Loss: 0.031360999960452315\n",
      "Epoch: 10/10 \t Batch: 3300/5194 \t Loss: 0.030799348279833792\n",
      "Epoch: 10/10 \t Batch: 3400/5194 \t Loss: 0.03403189731761813\n",
      "Epoch: 10/10 \t Batch: 3500/5194 \t Loss: 0.031072557810693978\n",
      "Epoch: 10/10 \t Batch: 3600/5194 \t Loss: 0.03343243962153793\n",
      "Epoch: 10/10 \t Batch: 3700/5194 \t Loss: 0.03284046305343509\n",
      "Epoch: 10/10 \t Batch: 3800/5194 \t Loss: 0.03367652148008347\n",
      "Epoch: 10/10 \t Batch: 3900/5194 \t Loss: 0.034293767623603345\n",
      "Epoch: 10/10 \t Batch: 4000/5194 \t Loss: 0.034033705573529006\n",
      "Epoch: 10/10 \t Batch: 4100/5194 \t Loss: 0.031999044306576255\n",
      "Epoch: 10/10 \t Batch: 4200/5194 \t Loss: 0.03396763503551483\n",
      "Epoch: 10/10 \t Batch: 4300/5194 \t Loss: 0.03269627094268799\n",
      "Epoch: 10/10 \t Batch: 4400/5194 \t Loss: 0.03111952869221568\n",
      "Epoch: 10/10 \t Batch: 4500/5194 \t Loss: 0.03474381677806378\n",
      "Epoch: 10/10 \t Batch: 4600/5194 \t Loss: 0.03274301597848535\n",
      "Epoch: 10/10 \t Batch: 4700/5194 \t Loss: 0.03368221633136272\n",
      "Epoch: 10/10 \t Batch: 4800/5194 \t Loss: 0.03437013980001211\n",
      "Epoch: 10/10 \t Batch: 4900/5194 \t Loss: 0.03203186299651861\n",
      "Epoch: 10/10 \t Batch: 5000/5194 \t Loss: 0.032965227123349906\n",
      "Epoch: 10/10 \t Batch: 5100/5194 \t Loss: 0.033871129527688025\n",
      "Saving model...\n"
     ]
    }
   ],
   "source": [
    "N_EPOCHS = 10\n",
    "BATCH_SIZE = 2048\n",
    "X_MAX = 100\n",
    "ALPHA = 0.75\n",
    "n_batches = int(len(dataset._xij) / BATCH_SIZE)\n",
    "loss_values = list()\n",
    "for e in range(1, N_EPOCHS+1):\n",
    "    batch_i = 0\n",
    "\n",
    "    for x_ij, i_idx, j_idx in dataset.get_batches(BATCH_SIZE):\n",
    "\n",
    "        batch_i += 1\n",
    "\n",
    "        optimizer.zero_grad()\n",
    "\n",
    "        outputs = glove(i_idx, j_idx)\n",
    "        weights_x = weight_func(x_ij, X_MAX, ALPHA)\n",
    "        loss = wmse_loss(weights_x, outputs, torch.log(x_ij))\n",
    "\n",
    "        loss.backward()\n",
    "\n",
    "        optimizer.step()\n",
    "\n",
    "        loss_values.append(loss.item())\n",
    "\n",
    "        if batch_i % 100 == 0:\n",
    "            print(\"Epoch: {}/{} \\t Batch: {}/{} \\t Loss: {}\".format(e, N_EPOCHS, batch_i, n_batches, np.mean(loss_values[-20:])))  \n",
    "\n",
    "    print(\"Saving model...\")\n",
    "    torch.save(glove.state_dict(), \"./pygments_glove_mode.pt\")"
   ]
  },
  {
   "cell_type": "code",
   "execution_count": 20,
   "metadata": {
    "colab": {
     "base_uri": "https://localhost:8080/",
     "height": 282
    },
    "executionInfo": {
     "elapsed": 2167,
     "status": "ok",
     "timestamp": 1615533555140,
     "user": {
      "displayName": "Trinanjan Saha",
      "photoUrl": "https://lh3.googleusercontent.com/a-/AOh14GipfCBKWKbXo-US0MVpIYaUnF-NJhwFIMMRY99znQ=s64",
      "userId": "04053274871203917390"
     },
     "user_tz": -330
    },
    "id": "btSetezOfZbv",
    "outputId": "9dbc0cd5-7c7f-4423-9e9a-9cab79e879c6"
   },
   "outputs": [
    {
     "data": {
      "text/plain": [
       "[<matplotlib.lines.Line2D at 0x7f0654b54b50>]"
      ]
     },
     "execution_count": 20,
     "metadata": {},
     "output_type": "execute_result"
    },
    {
     "data": {
      "image/png": "[encoded data removed]",
      "text/plain": [
       "<Figure size 432x288 with 1 Axes>"
      ]
     },
     "metadata": {
      "needs_background": "light"
     },
     "output_type": "display_data"
    }
   ],
   "source": [
    "plt.plot(loss_values)"
   ]
  },
  {
   "cell_type": "code",
   "execution_count": 21,
   "metadata": {
    "colab": {
     "base_uri": "https://localhost:8080/",
     "height": 877
    },
    "executionInfo": {
     "elapsed": 4331,
     "status": "ok",
     "timestamp": 1615522588392,
     "user": {
      "displayName": "Trinanjan Saha",
      "photoUrl": "https://lh3.googleusercontent.com/a-/AOh14GipfCBKWKbXo-US0MVpIYaUnF-NJhwFIMMRY99znQ=s64",
      "userId": "04053274871203917390"
     },
     "user_tz": -330
    },
    "id": "-KZqCnXmf5vb",
    "outputId": "dd15484a-a5cd-4b8e-fc4e-26abf00e7101"
   },
   "outputs": [
    {
     "name": "stderr",
     "output_type": "stream",
     "text": [
      "/home/tensor/.local/lib/python3.8/site-packages/matplotlib/backends/backend_agg.py:238: RuntimeWarning: Glyph 9 missing from current font.\n",
      "  font.set_text(s, 0.0, flags=flags)\n",
      "/home/tensor/.local/lib/python3.8/site-packages/matplotlib/backends/backend_agg.py:201: RuntimeWarning: Glyph 9 missing from current font.\n",
      "  font.set_text(s, 0, flags=flags)\n"
     ]
    },
    {
     "data": {
      "image/png": "[encoded data removed]",
      "text/plain": [
       "<Figure size 1008x1008 with 1 Axes>"
      ]
     },
     "metadata": {
      "needs_background": "light"
     },
     "output_type": "display_data"
    }
   ],
   "source": [
    "emb_i = glove.wi.weight.cpu().data.numpy()\n",
    "emb_j = glove.wj.weight.cpu().data.numpy()\n",
    "emb = emb_i + emb_j\n",
    "top_k = 200\n",
    "tsne = TSNE(metric='cosine', random_state=123)\n",
    "embed_tsne = tsne.fit_transform(emb[:top_k, :])\n",
    "fig, ax = plt.subplots(figsize=(14, 14))\n",
    "for idx in range(top_k):\n",
    "    plt.scatter(*embed_tsne[idx, :], color='steelblue')\n",
    "    plt.annotate(dataset._id2word[idx], (embed_tsne[idx, 0], embed_tsne[idx, 1]), alpha=0.7)\n"
   ]
  },
  {
   "cell_type": "code",
   "execution_count": 22,
   "metadata": {
    "colab": {
     "base_uri": "https://localhost:8080/"
    },
    "executionInfo": {
     "elapsed": 2074,
     "status": "ok",
     "timestamp": 1615533815585,
     "user": {
      "displayName": "Trinanjan Saha",
      "photoUrl": "https://lh3.googleusercontent.com/a-/AOh14GipfCBKWKbXo-US0MVpIYaUnF-NJhwFIMMRY99znQ=s64",
      "userId": "04053274871203917390"
     },
     "user_tz": -330
    },
    "id": "FJXjetw3uWI6",
    "outputId": "8912fd13-63fa-4d03-87ff-1fdb71464624"
   },
   "outputs": [
    {
     "name": "stderr",
     "output_type": "stream",
     "text": [
      "100%|██████████| 667631/667631 [00:00<00:00, 1680057.37it/s]\n"
     ]
    }
   ],
   "source": [
    "# loading the embedding weight\n",
    "embedding_corpus = glove.wi.weight.cpu().data.numpy()\n",
    "# to query word and id\n",
    "# word2id = {w:i for i,w in enumerate(python_corpus_tokens)}\n",
    "# id2word = {i:w for w, i in word2id.items()}\n",
    "word2id ,id2word , processed_corpus_used_for_training =  dataset.get_vocab_info()\n",
    "\n",
    "# dump the word2emb pickle\n",
    "word2emb = {}\n",
    "for word in tqdm(word2id):\n",
    "  word2emb[word] = embedding_corpus[word2id[word]]\n",
    "\n",
    "with open('./pygments_glove_embedding.pkl' , 'wb') as f:\n",
    "  pickle.dump(word2emb,f)"
   ]
  },
  {
   "cell_type": "code",
   "execution_count": 16,
   "metadata": {
    "colab": {
     "base_uri": "https://localhost:8080/"
    },
    "executionInfo": {
     "elapsed": 2239,
     "status": "ok",
     "timestamp": 1615533825153,
     "user": {
      "displayName": "Trinanjan Saha",
      "photoUrl": "https://lh3.googleusercontent.com/a-/AOh14GipfCBKWKbXo-US0MVpIYaUnF-NJhwFIMMRY99znQ=s64",
      "userId": "04053274871203917390"
     },
     "user_tz": -330
    },
    "id": "PhiRmM24NUe9",
    "outputId": "a457b415-a8de-4801-d652-907b39f2cfe4"
   },
   "outputs": [],
   "source": [
    "# np.sum(word2emb[\"if\"] - word2emb[\"else\"])"
   ]
  },
  {
   "cell_type": "code",
   "execution_count": 17,
   "metadata": {
    "executionInfo": {
     "elapsed": 2075,
     "status": "ok",
     "timestamp": 1615532768661,
     "user": {
      "displayName": "Trinanjan Saha",
      "photoUrl": "https://lh3.googleusercontent.com/a-/AOh14GipfCBKWKbXo-US0MVpIYaUnF-NJhwFIMMRY99znQ=s64",
      "userId": "04053274871203917390"
     },
     "user_tz": -330
    },
    "id": "zcudsEX7PjtH"
   },
   "outputs": [],
   "source": [
    "# word2id ,id2word , _ =  dataset.get_vocab_info()"
   ]
  },
  {
   "cell_type": "code",
   "execution_count": 18,
   "metadata": {
    "colab": {
     "base_uri": "https://localhost:8080/"
    },
    "executionInfo": {
     "elapsed": 3186,
     "status": "ok",
     "timestamp": 1615532778398,
     "user": {
      "displayName": "Trinanjan Saha",
      "photoUrl": "https://lh3.googleusercontent.com/a-/AOh14GipfCBKWKbXo-US0MVpIYaUnF-NJhwFIMMRY99znQ=s64",
      "userId": "04053274871203917390"
     },
     "user_tz": -330
    },
    "id": "BbYXH6CNQRKo",
    "outputId": "f9fcdf9a-cde3-46d7-9635-a8887d60f049"
   },
   "outputs": [],
   "source": [
    "# len(word2id)"
   ]
  },
  {
   "cell_type": "code",
   "execution_count": 19,
   "metadata": {
    "colab": {
     "base_uri": "https://localhost:8080/",
     "height": 163
    },
    "executionInfo": {
     "elapsed": 1215,
     "status": "error",
     "timestamp": 1615533677831,
     "user": {
      "displayName": "Trinanjan Saha",
      "photoUrl": "https://lh3.googleusercontent.com/a-/AOh14GipfCBKWKbXo-US0MVpIYaUnF-NJhwFIMMRY99znQ=s64",
      "userId": "04053274871203917390"
     },
     "user_tz": -330
    },
    "id": "XWZVN3-CQdAQ",
    "outputId": "d94cff8e-ab3c-43c3-e72a-7ed9d9b08b6a"
   },
   "outputs": [],
   "source": [
    "# id2word[len(processed_corpus_used_for_training)]"
   ]
  },
  {
   "cell_type": "code",
   "execution_count": null,
   "metadata": {
    "id": "q6j8-G88Rpb8"
   },
   "outputs": [],
   "source": []
  }
 ],
 "metadata": {
  "accelerator": "GPU",
  "colab": {
   "collapsed_sections": [],
   "name": "glove_embs_training_trails_test1.ipynb",
   "provenance": []
  },
  "kernelspec": {
   "display_name": "Python 3",
   "language": "python",
   "name": "python3"
  },
  "language_info": {
   "codemirror_mode": {
    "name": "ipython",
    "version": 3
   },
   "file_extension": ".py",
   "mimetype": "text/x-python",
   "name": "python",
   "nbconvert_exporter": "python",
   "pygments_lexer": "ipython3",
   "version": "3.8.5"
  }
 },
 "nbformat": 4,
 "nbformat_minor": 1
}

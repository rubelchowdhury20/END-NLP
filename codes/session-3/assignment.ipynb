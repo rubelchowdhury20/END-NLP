{
 "cells": [
  {
   "cell_type": "markdown",
   "metadata": {},
   "source": [
    "### Write a function using only list filter lambda that can tell whether a number is a Fibonacci number or not. You can use a pre-calculated list/dict to store fab numbers till 10000 (PTS:100)\n"
   ]
  },
  {
   "cell_type": "code",
   "execution_count": 1,
   "metadata": {},
   "outputs": [],
   "source": [
    "# pre-calculating a list/dict to store fab numbers till 10000\n",
    "fibonacci_list = [1, 1] # initialising a fibonacci list with first two numbers\n",
    "for i in range(10000-2):\n",
    "    next_number = fibonacci_list[-1] + fibonacci_list[-2]\n",
    "    fibonacci_list.append(next_number)"
   ]
  },
  {
   "cell_type": "code",
   "execution_count": 2,
   "metadata": {},
   "outputs": [
    {
     "data": {
      "text/plain": [
       "10000"
      ]
     },
     "execution_count": 2,
     "metadata": {},
     "output_type": "execute_result"
    }
   ],
   "source": [
    "len(fibonacci_list)"
   ]
  },
  {
   "cell_type": "code",
   "execution_count": 3,
   "metadata": {},
   "outputs": [],
   "source": [
    "# function which takes a list of number and returns the fibonacci numbers\n",
    "def fibonacci_numbers_check(num_list):\n",
    "    return list(filter(lambda x: x in fibonacci_list, num_list))"
   ]
  },
  {
   "cell_type": "code",
   "execution_count": 4,
   "metadata": {},
   "outputs": [
    {
     "data": {
      "text/plain": [
       "[8]"
      ]
     },
     "execution_count": 4,
     "metadata": {},
     "output_type": "execute_result"
    }
   ],
   "source": [
    "fibonacci_numbers_check([10, 20, 30, 8])"
   ]
  },
  {
   "cell_type": "markdown",
   "metadata": {},
   "source": [
    "______________________________________________________________________________________"
   ]
  },
  {
   "cell_type": "markdown",
   "metadata": {},
   "source": [
    "### Using list comprehension (and zip/lambda/etc if required) write five different expressions that: PTS:100\n",
    "* add 2 iterables a and b such that a is even and b is odd\n",
    "* strips every vowel from a string provided (tsai>>t s)\n",
    "* acts like a ReLU function for a 1D array\n",
    "* acts like a sigmoid function for a 1D array\n",
    "* takes a small character string and shifts all characters by 5 (handle boundary conditions) tsai>>yxfn"
   ]
  },
  {
   "cell_type": "code",
   "execution_count": 5,
   "metadata": {},
   "outputs": [
    {
     "name": "stdout",
     "output_type": "stream",
     "text": [
      "[0, 2, 4, 6, 8, 10, 12, 14, 16, 18]\n",
      "[1, 3, 5, 7, 9, 11, 13, 15, 17, 19]\n",
      "[1, 5, 9, 13, 17, 21, 25, 29, 33, 37]\n"
     ]
    }
   ],
   "source": [
    "# add 2 iterables a and b such that a is even and b is odd\n",
    "iter_a = list(filter(lambda x: x % 2 == 0, range(20)))\n",
    "iter_b = list(filter(lambda x: x % 2 != 0, range(20)))\n",
    "print(iter_a)\n",
    "print(iter_b)\n",
    "sum = [(iter_a[i] + num) for i, num in enumerate(iter_b)]\n",
    "print(sum)"
   ]
  },
  {
   "cell_type": "code",
   "execution_count": 22,
   "metadata": {},
   "outputs": [
    {
     "data": {
      "text/plain": [
       "'sfsf ds'"
      ]
     },
     "execution_count": 22,
     "metadata": {},
     "output_type": "execute_result"
    }
   ],
   "source": [
    "# strips every vowel from a string provided (tsai>>t s)\n",
    "vowels = [\"a\",\"e\",\"i\",\"o\",\"u\"]\n",
    "def strip_vowels(str):\n",
    "    return \"\".join(list(filter(lambda x: x not in vowels, str)))\n",
    "strip_vowels(\"safasf das\")"
   ]
  },
  {
   "cell_type": "code",
   "execution_count": 25,
   "metadata": {},
   "outputs": [],
   "source": [
    "# acts like a ReLU function for a 1D array\n",
    "def relu_activation(array):\n",
    "    return [x if x>0 else 0 for x in array]\n",
    "relu_activation([2, 3, -1, 100])"
   ]
  },
  {
   "cell_type": "code",
   "execution_count": 28,
   "metadata": {},
   "outputs": [
    {
     "data": {
      "text/plain": [
       "[0.8807970779778823, 0.9525741268224334, 0.2689414213699951, 1.0]"
      ]
     },
     "execution_count": 28,
     "metadata": {},
     "output_type": "execute_result"
    }
   ],
   "source": [
    "# acts like a sigmoid function for a 1D array\n",
    "import math\n",
    "def sigmoid(x):\n",
    "    return 1 / (1 + math.exp(-x))\n",
    "\n",
    "def sigmoid_activation(array):\n",
    "    return [sigmoid(x) for x in array]\n",
    "\n",
    "sigmoid_activation([2, 3, -1, 100])"
   ]
  },
  {
   "cell_type": "code",
   "execution_count": 35,
   "metadata": {},
   "outputs": [
    {
     "data": {
      "text/plain": [
       "'yxfn'"
      ]
     },
     "execution_count": 35,
     "metadata": {},
     "output_type": "execute_result"
    }
   ],
   "source": [
    "# takes a small character string and shifts all characters by 5 (handle boundary conditions) tsai>>yxfn\n",
    "def shift_chars(str):\n",
    "    return \"\".join(chr(ord(x) + 5) for x in str)\n",
    "shift_chars(\"tsai\")"
   ]
  },
  {
   "cell_type": "markdown",
   "metadata": {},
   "source": [
    "______________________________________________________________________________________________________"
   ]
  },
  {
   "cell_type": "markdown",
   "metadata": {},
   "source": [
    "### A list comprehension expression that takes a ~200 word paragraph (write your own paragraph to check), and checks whether it has any of the swear words mentioned in https://github.com/RobertJGabriel/Google-profanity-words/blob/master/list.txt PTS:200"
   ]
  },
  {
   "cell_type": "code",
   "execution_count": 41,
   "metadata": {},
   "outputs": [
    {
     "name": "stdout",
     "output_type": "stream",
     "text": [
      "451\n"
     ]
    },
    {
     "data": {
      "text/plain": [
       "['4r5e', '5h1t', '5hit', 'a55', 'anal']"
      ]
     },
     "execution_count": 41,
     "metadata": {},
     "output_type": "execute_result"
    }
   ],
   "source": [
    "file = open('swear_list.txt', 'r') \n",
    "swear_list = file.read().splitlines()\n",
    "print(len(swear_list))\n",
    "swear_list[:5]"
   ]
  },
  {
   "cell_type": "code",
   "execution_count": 49,
   "metadata": {},
   "outputs": [
    {
     "data": {
      "text/plain": [
       "['cunt', 'fuck', 'bitch', 'fuck']"
      ]
     },
     "execution_count": 49,
     "metadata": {},
     "output_type": "execute_result"
    }
   ],
   "source": [
    "def check_swear(paragraph):\n",
    "    paragraph_words = paragraph.split(\" \")\n",
    "    return list(filter(lambda x: x in swear_list, paragraph_words))\n",
    "\n",
    "par = \"I didnt think yahung around with those kindda fucks. Theyre o k sometimes. Theyre always good for loot when they got it and they getya high when yawanna. Stick around. She may be around later, smiling. Hahaha, rolling the chair back to the desk. I dont go for that shit. Im strickly a cunt man myself. I was just wonderin how come than ya could fuck in a year. Shit, last night I had ta chase one away, a good lookin bitch too, but I promised the old lady Id throw a fuck inner, you know how it is.\"\n",
    "\n",
    "check_swear(par)"
   ]
  },
  {
   "cell_type": "markdown",
   "metadata": {},
   "source": [
    "______________________________________________________________________________________________________"
   ]
  },
  {
   "cell_type": "markdown",
   "metadata": {},
   "source": [
    "### Using reduce functions:\n",
    "* add only even numbers in a list\n",
    "* find the biggest character in a string (printable ascii characters)\n",
    "* adds every 3rd number in a list"
   ]
  },
  {
   "cell_type": "code",
   "execution_count": 4,
   "metadata": {},
   "outputs": [
    {
     "name": "stdout",
     "output_type": "stream",
     "text": [
      "The random list [0, 1, 2, 3, 4, 5, 6, 7, 8, 9]\n",
      "Adding even numbers 20\n",
      "----------------------------\n",
      "The random string list ['A', 'C', 'a', 'c', 'Z']\n",
      "Biggest ascii chatacter c\n",
      "----------------------------\n",
      "The random list [9 6 7 8 3 6 7 5 4 5]\n",
      "Adding every 3rd numbers 29\n"
     ]
    }
   ],
   "source": [
    "from functools import reduce\n",
    "import numpy as np\n",
    "# add only even numbers in a list\n",
    "my_list = [i for i in range(0, 10)]\n",
    "lamda_func_even_num = lambda x, y: x + y if (x % 2 == 0 and y % 2 == 0) else x\n",
    "print('The random list', my_list)\n",
    "print(\n",
    "    f'Adding even numbers {reduce(lamda_func_even_num,my_list)}'\n",
    ")\n",
    "print('----------------------------')\n",
    "\n",
    "# find the biggest character in a string (printable ascii characters)\n",
    "my_string_list = [*'ACacZ']\n",
    "lamda_func_biggest_char = lambda x, y: x if ord(x) > ord(y) else y\n",
    "print('The random string list', my_string_list)\n",
    "print(\n",
    "    f'Biggest ascii chatacter {reduce(lamda_func_biggest_char,my_string_list)}'\n",
    ")\n",
    "print('----------------------------')\n",
    "# adds every 3rd number in a list\n",
    "my_list = np.random.randint(2, 10, size=10)\n",
    "lamda_func_add_indexwise = lambda x, y: x + y[1] if y[0] % 3 == 0 else x\n",
    "# checking modulus of 3rd index\n",
    "print('The random list', my_list)\n",
    "print(\n",
    "    f'Adding every 3rd numbers {reduce(lamda_func_add_indexwise,enumerate(my_list))[1]}'\n",
    ")"
   ]
  },
  {
   "cell_type": "markdown",
   "metadata": {},
   "source": [
    "__________________________________________________________________________________________________"
   ]
  },
  {
   "cell_type": "markdown",
   "metadata": {},
   "source": [
    "### Using randint, random.choice and list comprehensions, write an expression that generates 15 random KADDAADDDD number plates, where KA is fixed, D stands for a digit, and A stands for Capital alphabets. 10<<DD<<99 & 1000<<DDDD<<9999 PTS:100"
   ]
  },
  {
   "cell_type": "code",
   "execution_count": 7,
   "metadata": {},
   "outputs": [
    {
     "name": "stdout",
     "output_type": "stream",
     "text": [
      "--------------------Random Number Plates--------------------\n",
      "\n",
      " ['KA97JD3817', 'KA93YX6561', 'KA17FL8417', 'KA38LA2284', 'KA81HI8372', 'KA55UZ2049', 'KA68HG9520', 'KA92UO9266', 'KA65JR3207', 'KA42SQ8178', 'KA57VM3607', 'KA19SV8355', 'KA16VZ5840', 'KA44VY3106', 'KA93GM2866']\n"
     ]
    }
   ],
   "source": [
    "import random\n",
    "import string\n",
    "number_plates = ['KA'+ str(random.randint(10,99))+ random.choice(string.ascii_uppercase)\\\n",
    "                 + random.choice(string.ascii_uppercase)+str(random.randint(1000,9999)) for i in range(0,15)]\n",
    "\n",
    "print('--------------------Random Number Plates--------------------\\n\\n',\n",
    "      number_plates)"
   ]
  },
  {
   "cell_type": "markdown",
   "metadata": {},
   "source": [
    "___"
   ]
  },
  {
   "cell_type": "markdown",
   "metadata": {},
   "source": [
    "### Write the above again from scratch where KA can be changed to DL, and 1000/9999 ranges can be provided.  PTS:100"
   ]
  },
  {
   "cell_type": "code",
   "execution_count": 8,
   "metadata": {},
   "outputs": [
    {
     "name": "stdout",
     "output_type": "stream",
     "text": [
      "--------------------Random Number Plates with DL and between specific range--------------------\n",
      "\n",
      " ['DL60YN3644', 'DL38RM4357', 'DL16CL2315', 'DL59XE2005', 'DL37BP2890', 'DL10BG4741', 'DL81OY2697', 'DL85VC4587', 'DL51XK3957', 'DL67EV2933', 'DL61KA3813', 'DL26OM4856', 'DL89BL3051', 'DL23RT4748', 'DL94JW2957']\n"
     ]
    }
   ],
   "source": [
    "def custom_number_plate_generator(state_code, alpha_numeric_range):\n",
    "    return state_code + str(random.randint(10,99))+ random.choice(string.ascii_uppercase)\\\n",
    "    + random.choice(string.ascii_uppercase)+str(random.randint(alpha_numeric_range[0],alpha_numeric_range[1]))\n",
    "\n",
    "\n",
    "number_plates_new = [\n",
    "    custom_number_plate_generator('DL', [2000, 5000]) for i in range(0, 15)\n",
    "]\n",
    "\n",
    "print('--------------------Random Number Plates with DL and between specific range--------------------\\n\\n',\\\n",
    "      number_plates_new)"
   ]
  },
  {
   "cell_type": "code",
   "execution_count": null,
   "metadata": {},
   "outputs": [],
   "source": []
  }
 ],
 "metadata": {
  "kernelspec": {
   "display_name": "Python 3",
   "language": "python",
   "name": "python3"
  },
  "language_info": {
   "codemirror_mode": {
    "name": "ipython",
    "version": 3
   },
   "file_extension": ".py",
   "mimetype": "text/x-python",
   "name": "python",
   "nbconvert_exporter": "python",
   "pygments_lexer": "ipython3",
   "version": "3.8.5"
  }
 },
 "nbformat": 4,
 "nbformat_minor": 4
}

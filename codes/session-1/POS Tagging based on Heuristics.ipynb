{
 "cells": [
  {
   "cell_type": "markdown",
   "metadata": {
    "id": "mM0Ka5OWjTtn"
   },
   "source": [
    "##Import necessary Libraries"
   ]
  },
  {
   "cell_type": "code",
   "execution_count": null,
   "metadata": {
    "cellView": "both",
    "id": "HUkH-XafjF18"
   },
   "outputs": [],
   "source": [
    "import nltk\n",
    "from nltk.tokenize import word_tokenize\n",
    "from nltk.tag import pos_tag\n",
    "from nltk.chunk import ne_chunk\n",
    "nltk.download('punkt')\n",
    "nltk.download('averaged_perceptron_tagger')"
   ]
  },
  {
   "cell_type": "markdown",
   "metadata": {
    "id": "CnfJWQfEjn89"
   },
   "source": [
    "## A sentence under consideration for Information Extraction (NER)"
   ]
  },
  {
   "cell_type": "code",
   "execution_count": null,
   "metadata": {
    "id": "1nOjV-QMjlBF"
   },
   "outputs": [],
   "source": [
    "sentence = 'Virat Kohli is an Indian cricketer who currently captains the India national team. A right-handed top-order batsman, Kohli is regarded as one of the best batsmen in the world'"
   ]
  },
  {
   "cell_type": "markdown",
   "metadata": {
    "id": "wwc64Wajjv95"
   },
   "source": [
    "## Apply word tokenization and part-of-speech tagging to the sentence"
   ]
  },
  {
   "cell_type": "code",
   "execution_count": null,
   "metadata": {
    "id": "rrJPkc2MjtwW"
   },
   "outputs": [],
   "source": [
    "def preprocess(sent):\n",
    "    sent =  # TOKENIZE THE SENTENCE\n",
    "    sent = # GET POS TAG OF THE SENTENCE\n",
    "    return sent"
   ]
  },
  {
   "cell_type": "code",
   "execution_count": null,
   "metadata": {
    "id": "xKv51GotjyZU"
   },
   "outputs": [],
   "source": [
    "sent = preprocess(sentence)\n",
    "sent"
   ]
  },
  {
   "cell_type": "markdown",
   "metadata": {
    "id": "5ZfnCIBOlP32"
   },
   "source": [
    "## Plot a Parse Tree"
   ]
  },
  {
   "cell_type": "code",
   "execution_count": null,
   "metadata": {
    "id": "3SFMBOJhj0kD"
   },
   "outputs": [],
   "source": [
    "pattern = 'NP: {<DT>?<JJ>*<NN>}'\n",
    "NPChunker =  # Regex Parse using the pattern\n",
    "result = NPChunker.parse(sent)\n",
    "result.draw()"
   ]
  },
  {
   "cell_type": "markdown",
   "metadata": {
    "id": "mzfWmM0s3qLQ"
   },
   "source": [
    "## POS Tags"
   ]
  },
  {
   "cell_type": "code",
   "execution_count": null,
   "metadata": {
    "id": "6lUv0-IX0V-v"
   },
   "outputs": [],
   "source": [
    "from nltk.chunk import conlltags2tree, tree2conlltags\n",
    "from pprint import pprint\n",
    "iob_tagged = tree2conlltags(cs)\n",
    "pprint(iob_tagged)"
   ]
  },
  {
   "cell_type": "markdown",
   "metadata": {
    "id": "GsWTk0dX4DN8"
   },
   "source": [
    "**This is how Information is extracted using heuristics based techniques. Try using another pattern.**"
   ]
  },
  {
   "cell_type": "code",
   "execution_count": null,
   "metadata": {
    "id": "hGPurTlb3tWd"
   },
   "outputs": [],
   "source": []
  }
 ],
 "metadata": {
  "colab": {
   "authorship_tag": "ABX9TyNEzjYV9cbHTds4eCmnTVo1",
   "collapsed_sections": [],
   "name": "POS Tagging based on Heuristics.ipynb",
   "provenance": []
  },
  "kernelspec": {
   "display_name": "Python 3",
   "language": "python",
   "name": "python3"
  },
  "language_info": {
   "codemirror_mode": {
    "name": "ipython",
    "version": 3
   },
   "file_extension": ".py",
   "mimetype": "text/x-python",
   "name": "python",
   "nbconvert_exporter": "python",
   "pygments_lexer": "ipython3",
   "version": "3.8.2"
  }
 },
 "nbformat": 4,
 "nbformat_minor": 1
}
